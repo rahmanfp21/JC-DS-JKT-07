{
 "cells": [
  {
   "cell_type": "markdown",
   "metadata": {},
   "source": [
    "# Boosting\n",
    "\n",
    "Boosting is an ensemble method that combine multiple weak learner alghoritm into one strong learner. Bagging also implement the same thing but Boosting learns them sequentially in a very adaptative way (a base model depends on the previous ones) and combines them following a deterministic strategy.\n",
    "\n",
    "Very roughly, we can say that bagging will mainly focus at getting an ensemble model with less variance than its components whereas boosting and stacking will mainly try to produce strong models less biased than their components (even if variance can also be reduced).\n",
    "\n",
    "There are 3 popular Boosting technique out there:\n",
    "1. AdaBoost (Adaptive Boosting)\n",
    "1. Gradient Boosting\n",
    "1. XGBoost (Extreme Gradient Boosting)\n",
    "\n",
    "Let's try to explore these methods now"
   ]
  },
  {
   "cell_type": "code",
   "execution_count": 1,
   "metadata": {
    "ExecuteTime": {
     "end_time": "2019-10-31T02:21:55.471817Z",
     "start_time": "2019-10-31T02:21:45.562170Z"
    }
   },
   "outputs": [],
   "source": [
    "import pandas as pd\n",
    "import seaborn as sns\n",
    "import matplotlib.pyplot as plt\n",
    "import numpy as np\n",
    "\n",
    "from sklearn.metrics import classification_report, confusion_matrix, accuracy_score,roc_auc_score, f1_score, log_loss, matthews_corrcoef\n",
    "%matplotlib inline\n",
    "\n",
    "pd.set_option('display.max_columns', None)"
   ]
  },
  {
   "cell_type": "code",
   "execution_count": 2,
   "metadata": {
    "ExecuteTime": {
     "end_time": "2019-10-31T02:21:55.502737Z",
     "start_time": "2019-10-31T02:21:55.474809Z"
    }
   },
   "outputs": [],
   "source": [
    "dfdiabetes = pd.read_csv('pima-indians-diabetes.csv')"
   ]
  },
  {
   "cell_type": "code",
   "execution_count": 3,
   "metadata": {
    "ExecuteTime": {
     "end_time": "2019-10-31T02:21:55.538639Z",
     "start_time": "2019-10-31T02:21:55.507724Z"
    }
   },
   "outputs": [
    {
     "data": {
      "text/html": [
       "<div>\n",
       "<style scoped>\n",
       "    .dataframe tbody tr th:only-of-type {\n",
       "        vertical-align: middle;\n",
       "    }\n",
       "\n",
       "    .dataframe tbody tr th {\n",
       "        vertical-align: top;\n",
       "    }\n",
       "\n",
       "    .dataframe thead th {\n",
       "        text-align: right;\n",
       "    }\n",
       "</style>\n",
       "<table border=\"1\" class=\"dataframe\">\n",
       "  <thead>\n",
       "    <tr style=\"text-align: right;\">\n",
       "      <th></th>\n",
       "      <th>num_pregnant</th>\n",
       "      <th>plasma_conc</th>\n",
       "      <th>blood_pressure</th>\n",
       "      <th>tricep_thick</th>\n",
       "      <th>serum_insulin</th>\n",
       "      <th>BMI</th>\n",
       "      <th>d_pedigree</th>\n",
       "      <th>age</th>\n",
       "      <th>diabetes</th>\n",
       "    </tr>\n",
       "  </thead>\n",
       "  <tbody>\n",
       "    <tr>\n",
       "      <th>0</th>\n",
       "      <td>6</td>\n",
       "      <td>148</td>\n",
       "      <td>72</td>\n",
       "      <td>35</td>\n",
       "      <td>0</td>\n",
       "      <td>33.6</td>\n",
       "      <td>0.627</td>\n",
       "      <td>50</td>\n",
       "      <td>1</td>\n",
       "    </tr>\n",
       "    <tr>\n",
       "      <th>1</th>\n",
       "      <td>1</td>\n",
       "      <td>85</td>\n",
       "      <td>66</td>\n",
       "      <td>29</td>\n",
       "      <td>0</td>\n",
       "      <td>26.6</td>\n",
       "      <td>0.351</td>\n",
       "      <td>31</td>\n",
       "      <td>0</td>\n",
       "    </tr>\n",
       "    <tr>\n",
       "      <th>2</th>\n",
       "      <td>8</td>\n",
       "      <td>183</td>\n",
       "      <td>64</td>\n",
       "      <td>0</td>\n",
       "      <td>0</td>\n",
       "      <td>23.3</td>\n",
       "      <td>0.672</td>\n",
       "      <td>32</td>\n",
       "      <td>1</td>\n",
       "    </tr>\n",
       "    <tr>\n",
       "      <th>3</th>\n",
       "      <td>1</td>\n",
       "      <td>89</td>\n",
       "      <td>66</td>\n",
       "      <td>23</td>\n",
       "      <td>94</td>\n",
       "      <td>28.1</td>\n",
       "      <td>0.167</td>\n",
       "      <td>21</td>\n",
       "      <td>0</td>\n",
       "    </tr>\n",
       "    <tr>\n",
       "      <th>4</th>\n",
       "      <td>0</td>\n",
       "      <td>137</td>\n",
       "      <td>40</td>\n",
       "      <td>35</td>\n",
       "      <td>168</td>\n",
       "      <td>43.1</td>\n",
       "      <td>2.288</td>\n",
       "      <td>33</td>\n",
       "      <td>1</td>\n",
       "    </tr>\n",
       "  </tbody>\n",
       "</table>\n",
       "</div>"
      ],
      "text/plain": [
       "   num_pregnant  plasma_conc  blood_pressure  tricep_thick  serum_insulin  \\\n",
       "0             6          148              72            35              0   \n",
       "1             1           85              66            29              0   \n",
       "2             8          183              64             0              0   \n",
       "3             1           89              66            23             94   \n",
       "4             0          137              40            35            168   \n",
       "\n",
       "    BMI  d_pedigree  age  diabetes  \n",
       "0  33.6       0.627   50         1  \n",
       "1  26.6       0.351   31         0  \n",
       "2  23.3       0.672   32         1  \n",
       "3  28.1       0.167   21         0  \n",
       "4  43.1       2.288   33         1  "
      ]
     },
     "execution_count": 3,
     "metadata": {},
     "output_type": "execute_result"
    }
   ],
   "source": [
    "dfdiabetes.head()"
   ]
  },
  {
   "cell_type": "code",
   "execution_count": 4,
   "metadata": {
    "ExecuteTime": {
     "end_time": "2019-10-31T02:21:55.562577Z",
     "start_time": "2019-10-31T02:21:55.542628Z"
    }
   },
   "outputs": [
    {
     "name": "stdout",
     "output_type": "stream",
     "text": [
      "<class 'pandas.core.frame.DataFrame'>\n",
      "RangeIndex: 768 entries, 0 to 767\n",
      "Data columns (total 9 columns):\n",
      "num_pregnant      768 non-null int64\n",
      "plasma_conc       768 non-null int64\n",
      "blood_pressure    768 non-null int64\n",
      "tricep_thick      768 non-null int64\n",
      "serum_insulin     768 non-null int64\n",
      "BMI               768 non-null float64\n",
      "d_pedigree        768 non-null float64\n",
      "age               768 non-null int64\n",
      "diabetes          768 non-null int64\n",
      "dtypes: float64(2), int64(7)\n",
      "memory usage: 54.1 KB\n"
     ]
    }
   ],
   "source": [
    "dfdiabetes.info()"
   ]
  },
  {
   "cell_type": "code",
   "execution_count": 5,
   "metadata": {
    "ExecuteTime": {
     "end_time": "2019-10-31T02:21:55.574548Z",
     "start_time": "2019-10-31T02:21:55.566564Z"
    }
   },
   "outputs": [],
   "source": [
    "data = dfdiabetes.drop('diabetes', axis = 1)\n",
    "target = dfdiabetes['diabetes']"
   ]
  },
  {
   "cell_type": "code",
   "execution_count": 6,
   "metadata": {
    "ExecuteTime": {
     "end_time": "2019-10-31T02:21:55.588509Z",
     "start_time": "2019-10-31T02:21:55.578533Z"
    }
   },
   "outputs": [
    {
     "data": {
      "text/plain": [
       "0    500\n",
       "1    268\n",
       "Name: diabetes, dtype: int64"
      ]
     },
     "execution_count": 6,
     "metadata": {},
     "output_type": "execute_result"
    }
   ],
   "source": [
    "target.value_counts()"
   ]
  },
  {
   "cell_type": "markdown",
   "metadata": {},
   "source": [
    "## AdaBoost\n",
    "\n",
    "Cited from sklearn:\n",
    "\n",
    "An AdaBoost classifier is a meta-estimator that begins by fitting a classifier on the original dataset and then fits additional copies of the classifier on the same dataset but where the weights of incorrectly classified instances are adjusted such that subsequent classifiers focus more on difficult cases. In AdaBoost, we would have two kind of weight; the observation weight and the classifier weight.\n",
    "\n",
    "Using AdaBoost classifier, our target class would be always $y = \\left\\{1, -1\\right\\}$ where positive 1 is represent the positive class and negative 1 (-1) is represent the negative class. \n",
    "\n",
    "In AdaBoost, we could let the classifier equation as below:\n",
    "\n",
    "$$ Gm(x) m=1,2,...,M$$ \n",
    "\n",
    "Where $Gm(x)$ is our boosted classifier and M is the sequence of our weak classifiers, and our objective is:\n",
    "\n",
    "$$G(x)=sign(α_1G_1(x)+α_2G_2(x)+...α_MG_M(x))=sign(\\sum_{m=1}^{M}α_mG_m(x))$$\n",
    "\n",
    "where $α$ is the classifier weight, and sign is represent the positive or negative (depend on what class is predicted)\n",
    "\n",
    "In the first step, Initialize the obervation weights $w_i=1/N$ for every observation on the data. \n",
    "\n",
    "for $m=1,2,...,M$\n",
    "\n",
    "- Compute the weighted error $Err_m=\\large\\frac{\\sum_{i=1}^{N}w_iI(y(i)≠Gm(x(i)))}{\\sum_{i=1}^{N}w_i}$ , where we sum the weight of the misclassified data divided by the sum of all the data weight \n",
    "- Compute the estimator coefficient $α_m=L*log(\\frac{1−err_m}{err_m})$ where $L≤1$ is the learning rate\n",
    "- Set data weights $w_i←w_i*exp[α_mI(y(i)≠Gm(x(i)))]$ which mean if it is misclassified, the observed data would be updated as $\\large w_i * e^{α_m}$ else it updated as $\\large w_i * e^{-α_m}$\n",
    "- Normalized the weight data in each step by $w_i←\\frac{w_i}{\\sum_{i=1}^{N}w_i}$\n",
    "\n",
    "The expected output would be the sum of the classifier weight multiply by the predicted target class. For example if we have 3 classifier which predict 1, 1, -1. The sum would be 1, which mean the prediction would be the positive class, but if we the weight of the classifier is 0.3, 0.1, 1 then the sum would be 0.3 * 1 + 0.1 * 1 + 1 * -1 which equal to -0.6, then our prediction would come to the negative class "
   ]
  },
  {
   "cell_type": "code",
   "execution_count": 7,
   "metadata": {
    "ExecuteTime": {
     "end_time": "2019-10-31T02:21:56.163967Z",
     "start_time": "2019-10-31T02:21:55.591499Z"
    }
   },
   "outputs": [],
   "source": [
    "from sklearn.model_selection import train_test_split\n",
    "from sklearn.tree import DecisionTreeClassifier\n",
    "from sklearn.ensemble import AdaBoostClassifier\n",
    "from sklearn.model_selection import GridSearchCV"
   ]
  },
  {
   "cell_type": "code",
   "execution_count": 8,
   "metadata": {
    "ExecuteTime": {
     "end_time": "2019-10-31T02:21:56.174938Z",
     "start_time": "2019-10-31T02:21:56.168955Z"
    }
   },
   "outputs": [],
   "source": [
    "dt = DecisionTreeClassifier(min_samples_split = 2, min_samples_leaf = 5, max_depth = 1 )"
   ]
  },
  {
   "cell_type": "code",
   "execution_count": 9,
   "metadata": {
    "ExecuteTime": {
     "end_time": "2019-10-31T02:21:56.186906Z",
     "start_time": "2019-10-31T02:21:56.179926Z"
    }
   },
   "outputs": [],
   "source": [
    "ada = AdaBoostClassifier(base_estimator =dt,n_estimators = 1000, learning_rate = 0.05, algorithm = 'SAMME')"
   ]
  },
  {
   "cell_type": "code",
   "execution_count": 10,
   "metadata": {
    "ExecuteTime": {
     "end_time": "2019-10-31T02:21:56.202863Z",
     "start_time": "2019-10-31T02:21:56.191893Z"
    }
   },
   "outputs": [],
   "source": [
    "X_train, X_test, y_train, y_test = train_test_split(data, target, test_size = 0.2, random_state = 101)"
   ]
  },
  {
   "cell_type": "code",
   "execution_count": 11,
   "metadata": {
    "ExecuteTime": {
     "end_time": "2019-10-31T02:21:56.222813Z",
     "start_time": "2019-10-31T02:21:56.206854Z"
    }
   },
   "outputs": [
    {
     "data": {
      "text/plain": [
       "DecisionTreeClassifier(class_weight=None, criterion='gini', max_depth=1,\n",
       "                       max_features=None, max_leaf_nodes=None,\n",
       "                       min_impurity_decrease=0.0, min_impurity_split=None,\n",
       "                       min_samples_leaf=5, min_samples_split=2,\n",
       "                       min_weight_fraction_leaf=0.0, presort=False,\n",
       "                       random_state=None, splitter='best')"
      ]
     },
     "execution_count": 11,
     "metadata": {},
     "output_type": "execute_result"
    }
   ],
   "source": [
    "dt.fit(X_train, y_train)"
   ]
  },
  {
   "cell_type": "code",
   "execution_count": 12,
   "metadata": {
    "ExecuteTime": {
     "end_time": "2019-10-31T02:21:58.318610Z",
     "start_time": "2019-10-31T02:21:56.225803Z"
    }
   },
   "outputs": [
    {
     "data": {
      "text/plain": [
       "AdaBoostClassifier(algorithm='SAMME',\n",
       "                   base_estimator=DecisionTreeClassifier(class_weight=None,\n",
       "                                                         criterion='gini',\n",
       "                                                         max_depth=1,\n",
       "                                                         max_features=None,\n",
       "                                                         max_leaf_nodes=None,\n",
       "                                                         min_impurity_decrease=0.0,\n",
       "                                                         min_impurity_split=None,\n",
       "                                                         min_samples_leaf=5,\n",
       "                                                         min_samples_split=2,\n",
       "                                                         min_weight_fraction_leaf=0.0,\n",
       "                                                         presort=False,\n",
       "                                                         random_state=None,\n",
       "                                                         splitter='best'),\n",
       "                   learning_rate=0.05, n_estimators=1000, random_state=None)"
      ]
     },
     "execution_count": 12,
     "metadata": {},
     "output_type": "execute_result"
    }
   ],
   "source": [
    "ada.fit(X_train, y_train)"
   ]
  },
  {
   "cell_type": "code",
   "execution_count": 13,
   "metadata": {
    "ExecuteTime": {
     "end_time": "2019-10-31T02:21:58.388963Z",
     "start_time": "2019-10-31T02:21:58.321602Z"
    }
   },
   "outputs": [
    {
     "data": {
      "text/plain": [
       "array([0.05552874, 0.3899502 , 0.        , 0.        , 0.        ,\n",
       "       0.38354926, 0.071597  , 0.09937479])"
      ]
     },
     "execution_count": 13,
     "metadata": {},
     "output_type": "execute_result"
    }
   ],
   "source": [
    "ada.feature_importances_ "
   ]
  },
  {
   "cell_type": "code",
   "execution_count": 14,
   "metadata": {
    "ExecuteTime": {
     "end_time": "2019-10-31T02:21:58.417893Z",
     "start_time": "2019-10-31T02:21:58.391955Z"
    }
   },
   "outputs": [
    {
     "data": {
      "text/plain": [
       "array([0.05385066, 0.05115813, 0.04537125, 0.04765938, 0.04527641,\n",
       "       0.04087251, 0.04200059, 0.0378057 , 0.02263004, 0.02149854,\n",
       "       0.02116606, 0.02091103, 0.01986548, 0.01943241, 0.02080425,\n",
       "       0.019858  , 0.0188651 , 0.01920274, 0.01842235, 0.01750123,\n",
       "       0.01662617, 0.01579486, 0.01500512, 0.01545161, 0.02015132,\n",
       "       0.01529699, 0.01481318, 0.02824223, 0.0210615 , 0.02084163,\n",
       "       0.01631298, 0.01549733, 0.01472246, 0.0141617 , 0.01446363,\n",
       "       0.01394134, 0.01885234, 0.03259195, 0.0136671 , 0.01405377,\n",
       "       0.02682073, 0.01375752, 0.01352565, 0.01823318, 0.01401838,\n",
       "       0.01331746, 0.01343285, 0.01958399, 0.01946928, 0.03087124,\n",
       "       0.01305251, 0.01279549, 0.02528953, 0.0131269 , 0.01247055,\n",
       "       0.01275917, 0.01228879, 0.0125476 , 0.01738107, 0.01257972,\n",
       "       0.01201637, 0.01797819, 0.01637006, 0.02916467, 0.02384844,\n",
       "       0.01259012, 0.01196062, 0.01163471, 0.01177068, 0.0114661 ,\n",
       "       0.01619445, 0.01202713, 0.01142578, 0.01139536, 0.0112561 ,\n",
       "       0.01122277, 0.01762587, 0.02264118, 0.01927556, 0.02637941,\n",
       "       0.0112144 , 0.01065368, 0.01090137, 0.0154213 , 0.01093293,\n",
       "       0.01043382, 0.01075801, 0.01029546, 0.02622978, 0.01572227,\n",
       "       0.01077408, 0.01023538, 0.01031105, 0.02113569, 0.01930933,\n",
       "       0.01422381, 0.02431762, 0.01018976, 0.00968027, 0.01002677,\n",
       "       0.0095573 , 0.0098701 , 0.01430031, 0.01459001, 0.01021901,\n",
       "       0.00970806, 0.00946849, 0.02254272, 0.00958817, 0.01536758,\n",
       "       0.0094767 , 0.00917542, 0.01416333, 0.01404324, 0.01277959,\n",
       "       0.01877385, 0.02263106, 0.00984889, 0.00935644, 0.00888862,\n",
       "       0.00897305, 0.00877141, 0.00884455, 0.01719424, 0.01425138,\n",
       "       0.02298826, 0.00872577, 0.0083866 , 0.01252787, 0.01283048,\n",
       "       0.02086648, 0.00853717, 0.00827717, 0.00841428, 0.0081724 ,\n",
       "       0.02192173, 0.01242953, 0.00818531, 0.00777604, 0.00738724,\n",
       "       0.00701788, 0.0071304 , 0.01331886, 0.01632482, 0.02095941,\n",
       "       0.01371524, 0.00740861, 0.00703818, 0.00672199, 0.01930378,\n",
       "       0.00687518, 0.00832211, 0.02040888, 0.00647857, 0.01204779,\n",
       "       0.01236152, 0.01222294, 0.0175304 , 0.01973459, 0.00653968,\n",
       "       0.00632884, 0.01041965, 0.0067972 , 0.00645734, 0.00627359,\n",
       "       0.00638641, 0.00621643, 0.01409788, 0.01195469, 0.01955707,\n",
       "       0.01184766, 0.01732424, 0.00621384, 0.00600004, 0.00614485,\n",
       "       0.00594761, 0.0098966 , 0.01851646, 0.01447547, 0.01837907,\n",
       "       0.01137826, 0.01851789, 0.00595115, 0.00573915, 0.00588551,\n",
       "       0.00569005, 0.01068695, 0.00677857, 0.01071242, 0.01546928,\n",
       "       0.00606232, 0.00575921, 0.00552391, 0.00569499, 0.0054784 ,\n",
       "       0.01623579, 0.01068207, 0.01105021, 0.01746243, 0.01576374,\n",
       "       0.00569453, 0.01081823, 0.00534663, 0.00535541, 0.01012167,\n",
       "       0.01294373, 0.01675117, 0.01510619, 0.00974585, 0.00577542,\n",
       "       0.00548665, 0.00521232, 0.00516837, 0.01374434, 0.01447189,\n",
       "       0.00662953, 0.00506362, 0.00505048, 0.0160726 , 0.00979694,\n",
       "       0.01241066, 0.01482272, 0.00490696, 0.00834858, 0.00828325,\n",
       "       0.01347429, 0.00490384, 0.00483363, 0.00970019, 0.00512511,\n",
       "       0.00486886, 0.00475511, 0.01400006, 0.00912952, 0.01435077,\n",
       "       0.009661  , 0.01513342, 0.00571307, 0.00784226, 0.00894859,\n",
       "       0.01515004, 0.00842567, 0.00548275, 0.00520861, 0.00494818,\n",
       "       0.00470077, 0.00449743, 0.01356815, 0.00944218, 0.01275946,\n",
       "       0.00818737, 0.0044609 , 0.00765666, 0.00880141, 0.01086666,\n",
       "       0.0072331 , 0.01365247, 0.00812103, 0.01314825, 0.01194886,\n",
       "       0.00422368, 0.00752081, 0.00462742, 0.00439605, 0.00417957,\n",
       "       0.01162633, 0.01250625, 0.00802596, 0.00483657, 0.01305525,\n",
       "       0.00493037, 0.0135393 , 0.0122297 , 0.00424609, 0.00726713,\n",
       "       0.00437893, 0.00415998, 0.00420546, 0.00412369, 0.0040875 ,\n",
       "       0.00832058, 0.00431724, 0.00410138, 0.00419255, 0.01319483,\n",
       "       0.00800737, 0.00819282, 0.00425236, 0.00403974, 0.00395345,\n",
       "       0.00704526, 0.00422572, 0.00401443, 0.00408833, 0.01188717,\n",
       "       0.00410414, 0.01171246, 0.00836865, 0.00417329, 0.00703064,\n",
       "       0.01145846, 0.00412849, 0.00392207, 0.00783248, 0.00413651,\n",
       "       0.00392968, 0.00387674, 0.00389193, 0.00377765, 0.00677314,\n",
       "       0.01161017, 0.0036804 , 0.00349638, 0.00332156, 0.00315549,\n",
       "       0.00299771, 0.00284783, 0.00270543, 0.00257016, 0.00244165,\n",
       "       0.00231957, 0.00220359, 0.00225223, 0.00219897, 0.00224269,\n",
       "       0.00219414, 0.00223341, 0.00508551, 0.00239737, 0.0022775 ,\n",
       "       0.00216363, 0.00224621, 0.00216075, 0.00223521, 0.00215752,\n",
       "       0.00222461, 0.00975431, 0.01010711, 0.00276435, 0.00268394,\n",
       "       0.0027475 , 0.00736458, 0.00953924, 0.0027349 , 0.00265844,\n",
       "       0.00252552, 0.00239924, 0.00227928, 0.00216531, 0.00214923,\n",
       "       0.00215788, 0.00214301, 0.00305506, 0.0115588 , 0.00576456,\n",
       "       0.01111636, 0.00958871, 0.00541478, 0.00237097, 0.00225242,\n",
       "       0.0021398 , 0.00575055, 0.00228715, 0.00317079, 0.00490247,\n",
       "       0.00226528, 0.00215202, 0.00205378, 0.0057755 , 0.00220661,\n",
       "       0.00309272, 0.00571533, 0.00478691, 0.0074414 , 0.00461859,\n",
       "       0.00496837, 0.00587875, 0.00303034, 0.00987562, 0.00221763,\n",
       "       0.00210675, 0.00445753, 0.00220554, 0.00433581, 0.00229388,\n",
       "       0.00539385, 0.00340337, 0.0050699 , 0.00432904, 0.00227307,\n",
       "       0.00421688, 0.00235268, 0.0052817 , 0.0034478 , 0.00402329,\n",
       "       0.00250465, 0.00393708, 0.00775621, 0.00799034, 0.00358389,\n",
       "       0.00246881, 0.00510812, 0.00531205, 0.00390692, 0.00610627,\n",
       "       0.00394525, 0.00374799, 0.01065719, 0.00879991, 0.00336658,\n",
       "       0.00562881, 0.00342354, 0.00291902, 0.00338646, 0.00441738,\n",
       "       0.0031247 , 0.01086316, 0.00386915, 0.0033927 , 0.00834667,\n",
       "       0.00346241, 0.00375288, 0.0034555 , 0.00448458, 0.00864645,\n",
       "       0.00331783, 0.00315194, 0.00299434, 0.00842956, 0.0043442 ,\n",
       "       0.00275985, 0.00384167, 0.00354728, 0.00260793, 0.00247754,\n",
       "       0.00360392, 0.0025194 , 0.00361672, 0.00222673, 0.00469484,\n",
       "       0.00232346, 0.00620799, 0.0081837 , 0.00271671, 0.00258087,\n",
       "       0.00367454, 0.00362515, 0.0024492 , 0.00232674, 0.0022104 ,\n",
       "       0.00376562, 0.00227318, 0.0033922 , 0.00472541, 0.00221262,\n",
       "       0.00210199, 0.01056222, 0.00334144, 0.00387911, 0.00334692,\n",
       "       0.001961  , 0.00186295, 0.0017698 , 0.00650494, 0.00317909,\n",
       "       0.00179563, 0.00406273, 0.00189292, 0.00179828, 0.00713476,\n",
       "       0.00198244, 0.00188332, 0.00178915, 0.00294387, 0.00931244,\n",
       "       0.00137107, 0.00255717, 0.00118454, 0.00112532, 0.00116714,\n",
       "       0.00112612, 0.00116385, 0.00112672, 0.00116075, 0.00112714,\n",
       "       0.00233185, 0.00552602, 0.00120844, 0.00114802, 0.00113223,\n",
       "       0.00114598, 0.00687718, 0.00136485, 0.00255328, 0.00117877,\n",
       "       0.00111983, 0.00877063, 0.00134341, 0.01005111, 0.00146768,\n",
       "       0.0013943 , 0.00132458, 0.00125836, 0.01046799, 0.00130535,\n",
       "       0.00124008, 0.00244088, 0.00113581, 0.00112096, 0.00113385,\n",
       "       0.00112038, 0.00113196, 0.00111973, 0.00113013, 0.00111902,\n",
       "       0.00112836, 0.00111827, 0.00232805, 0.00123674, 0.0011749 ,\n",
       "       0.00111615, 0.00112744, 0.0011155 , 0.00112564, 0.00111479,\n",
       "       0.00112389, 0.00111403, 0.0011222 , 0.00111323, 0.00112055,\n",
       "       0.00232984, 0.00122257, 0.00116144, 0.00110337, 0.00112755,\n",
       "       0.00110336, 0.00112516, 0.00110325, 0.00112288, 0.00898924,\n",
       "       0.00132606, 0.00125975, 0.00434623, 0.00139723, 0.00259083,\n",
       "       0.00120769, 0.0011473 , 0.00108994, 0.0011159 , 0.00109005,\n",
       "       0.0046027 , 0.00124679, 0.00245076, 0.00107442, 0.00112381,\n",
       "       0.00107569, 0.00112026, 0.00107674, 0.00111695, 0.00442903,\n",
       "       0.00126545, 0.00699517, 0.00224619, 0.00127262, 0.00120899,\n",
       "       0.00114854, 0.00109112, 0.00109869, 0.00109033, 0.00109712,\n",
       "       0.00108952, 0.0010956 , 0.00108867, 0.0010941 , 0.00230921,\n",
       "       0.00119701, 0.00113716, 0.0010803 , 0.00109981, 0.00108012,\n",
       "       0.0010977 , 0.00107985, 0.00109567, 0.00441097, 0.00124449,\n",
       "       0.00118226, 0.00849071, 0.00139426, 0.00132455, 0.00502927,\n",
       "       0.00148201, 0.00140791, 0.00260182, 0.00435523, 0.00141725,\n",
       "       0.00134639, 0.00664308, 0.00105226, 0.00109986, 0.0010535 ,\n",
       "       0.00109645, 0.00105451, 0.00109326, 0.00105531, 0.00109027,\n",
       "       0.00662691, 0.00130259, 0.00123746, 0.00117558, 0.00509345,\n",
       "       0.00134347, 0.0012763 , 0.0043062 , 0.00141034, 0.00133983,\n",
       "       0.0041018 , 0.00146234, 0.00138922, 0.002584  , 0.00120022,\n",
       "       0.00114021, 0.0010832 , 0.00102984, 0.00107948, 0.00430369,\n",
       "       0.00122437, 0.00116315, 0.00237649, 0.00446018, 0.00120005,\n",
       "       0.00114005, 0.00680619, 0.00729034, 0.00113932, 0.00108235,\n",
       "       0.00102823, 0.00106879, 0.00102918, 0.00225111, 0.00117229,\n",
       "       0.00111368, 0.00105799, 0.00103737, 0.00105591, 0.00103723,\n",
       "       0.00105393, 0.001037  , 0.00105204, 0.00103669, 0.00105023,\n",
       "       0.00103631, 0.00104849, 0.00103587, 0.00510549, 0.00121147,\n",
       "       0.00242087, 0.00103884, 0.00441572, 0.00118995, 0.00688705,\n",
       "       0.00656783, 0.00355754, 0.00228228, 0.00447663, 0.00110082,\n",
       "       0.00826131, 0.00131002, 0.00124452, 0.0011823 , 0.00112318,\n",
       "       0.00106702, 0.00229066, 0.00109403, 0.00103933, 0.00101217,\n",
       "       0.00103697, 0.00101238, 0.00103474, 0.00101248, 0.00103263,\n",
       "       0.00101247, 0.00423426, 0.00115774, 0.00109985, 0.0049623 ,\n",
       "       0.00126605, 0.00247518, 0.00108811, 0.0010337 , 0.00433392,\n",
       "       0.00118145, 0.00112238, 0.00106626, 0.0099058 , 0.00240384,\n",
       "       0.00100635, 0.00223702, 0.00444447, 0.00105694, 0.0010041 ,\n",
       "       0.00101761, 0.00100378, 0.00701038, 0.00122452, 0.0011633 ,\n",
       "       0.0062887 , 0.00373091, 0.00119268, 0.00113305, 0.00235632,\n",
       "       0.00099488, 0.00101602, 0.00099495, 0.001014  , 0.00099492,\n",
       "       0.00101208, 0.00851913, 0.00207711, 0.00127355, 0.00120987,\n",
       "       0.00114938, 0.00109191, 0.00103732, 0.00098545, 0.00101943,\n",
       "       0.00098616, 0.00101681, 0.00098671, 0.00101435, 0.00098711,\n",
       "       0.00101204, 0.00224454, 0.00109361, 0.00103893, 0.00098698,\n",
       "       0.00101041, 0.00098718, 0.0010083 , 0.00098727, 0.00100629,\n",
       "       0.00098725, 0.00100439, 0.00098714, 0.00100258, 0.00098695,\n",
       "       0.00100085, 0.00223407, 0.00437777, 0.00104886, 0.00099642,\n",
       "       0.00098709, 0.000995  , 0.00098653, 0.00099364, 0.00098594,\n",
       "       0.00099231, 0.00098531, 0.00099102, 0.00222445, 0.00108994,\n",
       "       0.00103545, 0.00098367, 0.00099085, 0.00098309, 0.00098953,\n",
       "       0.00098247, 0.00098824, 0.00098182, 0.00098699, 0.00619337,\n",
       "       0.00648824, 0.00098421, 0.00098095, 0.00098312, 0.00098013,\n",
       "       0.00098204, 0.00097929, 0.00098098, 0.00097845, 0.00097993,\n",
       "       0.00424237, 0.00112636, 0.00661888, 0.0041786 , 0.0010442 ,\n",
       "       0.00099199, 0.0009597 , 0.00098947, 0.00331834, 0.0050089 ,\n",
       "       0.00101561, 0.00096483, 0.00097907, 0.00096462, 0.00220159,\n",
       "       0.00108166, 0.00102758, 0.0009762 , 0.00096568, 0.00097477,\n",
       "       0.00096522, 0.00097339, 0.00096472, 0.00407275, 0.00110527,\n",
       "       0.00105   , 0.0009975 , 0.0022312 , 0.00427388, 0.0010411 ,\n",
       "       0.00098904, 0.00093959, 0.00098482, 0.00094094, 0.00848995,\n",
       "       0.0011345 , 0.00107778, 0.00102389, 0.00795261, 0.0012276 ,\n",
       "       0.00116622, 0.00110791, 0.00609626, 0.00129911, 0.00123416,\n",
       "       0.00352689, 0.00229848, 0.00095414, 0.0009553 , 0.00095332,\n",
       "       0.00095432, 0.00095249, 0.00095335, 0.00095166, 0.00095239,\n",
       "       0.00481399, 0.00111985, 0.00106386, 0.00101067, 0.00224565,\n",
       "       0.0041979 , 0.00104951, 0.00099704, 0.00094718, 0.00094425,\n",
       "       0.00094617, 0.00094349, 0.00094518, 0.00094271, 0.0009442 ,\n",
       "       0.00218326, 0.00316603, 0.00118824, 0.00112883, 0.00107239,\n",
       "       0.00101877, 0.00096783, 0.00091944, 0.00096342, 0.00092076,\n",
       "       0.00096045, 0.00092187, 0.00095769, 0.00641265, 0.00417095,\n",
       "       0.00217685, 0.0010455 , 0.00099322, 0.00094356, 0.00093583,\n",
       "       0.00094233, 0.0009353 , 0.00094113, 0.00093474, 0.00093996,\n",
       "       0.00093415, 0.00093883, 0.00093354, 0.00093772, 0.0009329 ,\n",
       "       0.00818468, 0.00389172, 0.00130416, 0.00251687, 0.0011221 ,\n",
       "       0.00106599, 0.00336221, 0.00095096, 0.00090932, 0.00475864,\n",
       "       0.00107662, 0.00102279, 0.00225658, 0.00094115, 0.00091309,\n",
       "       0.00410246, 0.00105673, 0.00100389, 0.0009537 , 0.00390739,\n",
       "       0.00108743, 0.00103306, 0.00098141, 0.00221878, 0.00096672,\n",
       "       0.00091838, 0.00092188, 0.00091774, 0.00092085, 0.00942931,\n",
       "       0.00226464, 0.00407891, 0.00105816, 0.00100525, 0.00095499,\n",
       "       0.00090724, 0.00215026, 0.00785894, 0.00101423, 0.00096351,\n",
       "       0.00091534, 0.00091584, 0.00091455, 0.00091497, 0.00091377,\n",
       "       0.00660398, 0.00112423, 0.00106802, 0.00101462, 0.00096389,\n",
       "       0.00091569, 0.00090654, 0.00091444, 0.00090614, 0.00091323,\n",
       "       0.00090569, 0.00091205, 0.00601466, 0.0034437 , 0.00224718,\n",
       "       0.00404481, 0.00103885, 0.00098691, 0.00093756, 0.00089068,\n",
       "       0.00091748, 0.00089122, 0.00213752, 0.00101662, 0.00096579,\n",
       "       0.0009175 , 0.00088981, 0.00091534, 0.00089029, 0.00091331,\n",
       "       0.00089064, 0.0009114 , 0.00089089, 0.0009096 , 0.00089103,\n",
       "       0.0009079 , 0.00089109, 0.00593719, 0.00299585, 0.00125226,\n",
       "       0.00118965, 0.00113017, 0.00107366, 0.00101998, 0.00096898,\n",
       "       0.00092053, 0.00087674, 0.00091758, 0.00087798, 0.00091484,\n",
       "       0.00087903, 0.00091229, 0.00087991, 0.00090991, 0.00088062,\n",
       "       0.00090768, 0.00088119, 0.00090559, 0.00088163, 0.00400202,\n",
       "       0.0010224 , 0.00097128, 0.00092272, 0.00380918, 0.00105365,\n",
       "       0.00100096, 0.00451456, 0.00115305, 0.0010954 , 0.00104063,\n",
       "       0.00098859, 0.00222577, 0.00316833, 0.00604992, 0.00093965])"
      ]
     },
     "execution_count": 14,
     "metadata": {},
     "output_type": "execute_result"
    }
   ],
   "source": [
    "ada.estimator_weights_"
   ]
  },
  {
   "cell_type": "code",
   "execution_count": 15,
   "metadata": {
    "ExecuteTime": {
     "end_time": "2019-10-31T02:21:58.599518Z",
     "start_time": "2019-10-31T02:21:58.420889Z"
    }
   },
   "outputs": [
    {
     "name": "stdout",
     "output_type": "stream",
     "text": [
      "              precision    recall  f1-score   support\n",
      "\n",
      "           0       0.80      0.85      0.83       103\n",
      "           1       0.66      0.57      0.61        51\n",
      "\n",
      "    accuracy                           0.76       154\n",
      "   macro avg       0.73      0.71      0.72       154\n",
      "weighted avg       0.75      0.76      0.75       154\n",
      "\n"
     ]
    }
   ],
   "source": [
    "print(classification_report(y_test, ada.predict(X_test)))"
   ]
  },
  {
   "cell_type": "code",
   "execution_count": 16,
   "metadata": {
    "ExecuteTime": {
     "end_time": "2019-10-31T02:21:58.619466Z",
     "start_time": "2019-10-31T02:21:58.602510Z"
    }
   },
   "outputs": [
    {
     "name": "stdout",
     "output_type": "stream",
     "text": [
      "              precision    recall  f1-score   support\n",
      "\n",
      "           0       0.78      0.91      0.84       103\n",
      "           1       0.73      0.47      0.57        51\n",
      "\n",
      "    accuracy                           0.77       154\n",
      "   macro avg       0.75      0.69      0.71       154\n",
      "weighted avg       0.76      0.77      0.75       154\n",
      "\n"
     ]
    }
   ],
   "source": [
    "print(classification_report(y_test, dt.predict(X_test)))"
   ]
  },
  {
   "cell_type": "code",
   "execution_count": 17,
   "metadata": {
    "ExecuteTime": {
     "end_time": "2019-10-31T02:21:58.627446Z",
     "start_time": "2019-10-31T02:21:58.622456Z"
    }
   },
   "outputs": [],
   "source": [
    "dt = DecisionTreeClassifier()\n",
    "ada = AdaBoostClassifier(base_estimator =dt)"
   ]
  },
  {
   "cell_type": "code",
   "execution_count": 18,
   "metadata": {
    "ExecuteTime": {
     "end_time": "2019-10-31T02:22:21.320621Z",
     "start_time": "2019-10-31T02:21:58.631433Z"
    }
   },
   "outputs": [
    {
     "data": {
      "text/plain": [
       "GridSearchCV(cv=3, error_score='raise-deprecating',\n",
       "             estimator=AdaBoostClassifier(algorithm='SAMME.R',\n",
       "                                          base_estimator=DecisionTreeClassifier(class_weight=None,\n",
       "                                                                                criterion='gini',\n",
       "                                                                                max_depth=None,\n",
       "                                                                                max_features=None,\n",
       "                                                                                max_leaf_nodes=None,\n",
       "                                                                                min_impurity_decrease=0.0,\n",
       "                                                                                min_impurity_split=None,\n",
       "                                                                                min_samples_leaf=1,\n",
       "                                                                                min_samples_split=2,\n",
       "                                                                                min_weight_fraction_leaf=0.0,\n",
       "                                                                                presort...\n",
       "                                                                                splitter='best'),\n",
       "                                          learning_rate=1.0, n_estimators=50,\n",
       "                                          random_state=None),\n",
       "             iid='warn', n_jobs=None,\n",
       "             param_grid={'base_estimator__min_samples_leaf': [2, 3],\n",
       "                         'base_estimator__min_samples_split': [2, 3],\n",
       "                         'learning_rate': array([0.01  , 0.0325, 0.055 , 0.0775, 0.1   ]),\n",
       "                         'n_estimators': [10, 20, 50]},\n",
       "             pre_dispatch='2*n_jobs', refit=True, return_train_score=False,\n",
       "             scoring='roc_auc', verbose=0)"
      ]
     },
     "execution_count": 18,
     "metadata": {},
     "output_type": "execute_result"
    }
   ],
   "source": [
    "param_grid = {\n",
    "                \"base_estimator__min_samples_split\" : [i for i in range(2,4)],\n",
    "              \"base_estimator__min_samples_leaf\" :   [i for i in range(2,4)],\n",
    "              \"n_estimators\": [10, 20, 50],\n",
    "              \"learning_rate\": np.linspace(0.01, 0.1, 5)\n",
    "             }\n",
    "\n",
    "search = GridSearchCV(estimator = ada, param_grid = param_grid, scoring = 'roc_auc', cv = 3)\n",
    "search.fit(X_train, y_train)"
   ]
  },
  {
   "cell_type": "code",
   "execution_count": 19,
   "metadata": {
    "ExecuteTime": {
     "end_time": "2019-10-31T02:22:21.329598Z",
     "start_time": "2019-10-31T02:22:21.323614Z"
    }
   },
   "outputs": [
    {
     "data": {
      "text/plain": [
       "{'base_estimator__min_samples_leaf': 2,\n",
       " 'base_estimator__min_samples_split': 2,\n",
       " 'learning_rate': 0.0775,\n",
       " 'n_estimators': 50}"
      ]
     },
     "execution_count": 19,
     "metadata": {},
     "output_type": "execute_result"
    }
   ],
   "source": [
    "search.best_params_"
   ]
  },
  {
   "cell_type": "markdown",
   "metadata": {},
   "source": [
    "## Gradient Boosting\n",
    "\n",
    "Gradient Boosting work like AdaBoost but include few differences. \n",
    "\n",
    "Gradient boosting involves three elements:\n",
    "\n",
    "1. A loss function to be optimized.\n",
    "1. A weak learner to make predictions.\n",
    "1. An additive model to add weak learners to minimize the loss function."
   ]
  },
  {
   "cell_type": "code",
   "execution_count": 1,
   "metadata": {
    "ExecuteTime": {
     "end_time": "2020-02-25T03:11:09.855692Z",
     "start_time": "2020-02-25T03:11:08.800970Z"
    }
   },
   "outputs": [],
   "source": [
    "from sklearn.ensemble import GradientBoostingClassifier"
   ]
  },
  {
   "cell_type": "code",
   "execution_count": 21,
   "metadata": {
    "ExecuteTime": {
     "end_time": "2019-10-31T02:22:21.349079Z",
     "start_time": "2019-10-31T02:22:21.341566Z"
    }
   },
   "outputs": [],
   "source": [
    "gradient = GradientBoostingClassifier(learning_rate = 0.01, subsample = 0.5, n_estimators = 100)"
   ]
  },
  {
   "cell_type": "code",
   "execution_count": 22,
   "metadata": {
    "ExecuteTime": {
     "end_time": "2019-10-31T02:22:21.545551Z",
     "start_time": "2019-10-31T02:22:21.354064Z"
    }
   },
   "outputs": [
    {
     "data": {
      "text/plain": [
       "GradientBoostingClassifier(criterion='friedman_mse', init=None,\n",
       "                           learning_rate=0.01, loss='deviance', max_depth=3,\n",
       "                           max_features=None, max_leaf_nodes=None,\n",
       "                           min_impurity_decrease=0.0, min_impurity_split=None,\n",
       "                           min_samples_leaf=1, min_samples_split=2,\n",
       "                           min_weight_fraction_leaf=0.0, n_estimators=100,\n",
       "                           n_iter_no_change=None, presort='auto',\n",
       "                           random_state=None, subsample=0.5, tol=0.0001,\n",
       "                           validation_fraction=0.1, verbose=0,\n",
       "                           warm_start=False)"
      ]
     },
     "execution_count": 22,
     "metadata": {},
     "output_type": "execute_result"
    }
   ],
   "source": [
    "gradient.fit(X_train, y_train)"
   ]
  },
  {
   "cell_type": "code",
   "execution_count": 23,
   "metadata": {
    "ExecuteTime": {
     "end_time": "2019-10-31T02:22:21.568488Z",
     "start_time": "2019-10-31T02:22:21.557519Z"
    }
   },
   "outputs": [
    {
     "data": {
      "text/plain": [
       "array([5.89090022e-03, 5.03701686e-03, 4.43930484e-03, 4.79940263e-03,\n",
       "       5.14353264e-03, 4.83714834e-03, 4.93981046e-03, 4.42067916e-03,\n",
       "       3.94213127e-03, 4.73360346e-03, 4.53878080e-03, 3.80777690e-03,\n",
       "       4.77743258e-03, 4.11285384e-03, 4.24316272e-03, 3.70525890e-03,\n",
       "       2.64016773e-03, 4.44309544e-03, 4.26229224e-03, 3.61845728e-03,\n",
       "       2.79892690e-03, 4.11802805e-03, 3.49541144e-03, 3.64920986e-03,\n",
       "       3.24016136e-03, 3.19114244e-03, 2.17981734e-03, 3.31522972e-03,\n",
       "       3.29261690e-03, 3.07892263e-03, 2.13028461e-03, 3.28610909e-03,\n",
       "       2.90070740e-03, 1.91329358e-03, 2.74031415e-03, 3.19812059e-03,\n",
       "       2.21607242e-03, 2.15358176e-03, 2.85828829e-03, 2.82341827e-03,\n",
       "       2.15361098e-03, 2.95107629e-03, 1.56368092e-03, 1.97867215e-03,\n",
       "       2.65886098e-03, 2.09730632e-03, 2.39994475e-03, 2.59516895e-03,\n",
       "       1.78950514e-03, 2.08299842e-03, 1.96318096e-03, 2.25903251e-03,\n",
       "       2.27767262e-03, 1.77906130e-03, 2.07599366e-03, 1.75983242e-03,\n",
       "       1.85853003e-03, 1.74219262e-03, 2.44294410e-03, 1.26137454e-03,\n",
       "       1.55912032e-03, 2.07811518e-03, 1.76652837e-03, 1.55597992e-03,\n",
       "       1.38313744e-03, 1.69773641e-03, 1.32560892e-03, 1.47038904e-03,\n",
       "       1.38912056e-03, 1.40585351e-03, 7.98306766e-04, 1.94983990e-03,\n",
       "       1.74281939e-03, 1.55496755e-03, 1.44412151e-03, 1.38887788e-03,\n",
       "       1.29394190e-03, 1.38269360e-03, 1.31044250e-03, 8.71323635e-04,\n",
       "       1.48508272e-03, 1.77824939e-03, 9.01175368e-04, 9.55058008e-04,\n",
       "       1.46950172e-03, 8.53206564e-04, 3.49421389e-04, 9.04721805e-04,\n",
       "       1.18908406e-03, 1.04465810e-03, 1.67759298e-03, 1.10601223e-03,\n",
       "       6.55230159e-04, 1.13772032e-03, 7.86126236e-04, 5.63232107e-05,\n",
       "       1.04695810e-03, 1.13431848e-03, 8.71525273e-04, 1.17268955e-03])"
      ]
     },
     "execution_count": 23,
     "metadata": {},
     "output_type": "execute_result"
    }
   ],
   "source": [
    "gradient.oob_improvement_"
   ]
  },
  {
   "cell_type": "code",
   "execution_count": 24,
   "metadata": {
    "ExecuteTime": {
     "end_time": "2019-10-31T02:22:21.595418Z",
     "start_time": "2019-10-31T02:22:21.575470Z"
    }
   },
   "outputs": [
    {
     "name": "stdout",
     "output_type": "stream",
     "text": [
      "              precision    recall  f1-score   support\n",
      "\n",
      "           0       0.78      0.95      0.86       397\n",
      "           1       0.86      0.50      0.63       217\n",
      "\n",
      "    accuracy                           0.79       614\n",
      "   macro avg       0.82      0.73      0.74       614\n",
      "weighted avg       0.81      0.79      0.78       614\n",
      "\n"
     ]
    }
   ],
   "source": [
    "print(classification_report(y_train, gradient.predict(X_train)))"
   ]
  },
  {
   "cell_type": "code",
   "execution_count": 25,
   "metadata": {
    "ExecuteTime": {
     "end_time": "2019-10-31T02:22:21.621349Z",
     "start_time": "2019-10-31T02:22:21.601401Z"
    }
   },
   "outputs": [
    {
     "name": "stdout",
     "output_type": "stream",
     "text": [
      "              precision    recall  f1-score   support\n",
      "\n",
      "           0       0.78      0.91      0.84       103\n",
      "           1       0.74      0.49      0.59        51\n",
      "\n",
      "    accuracy                           0.77       154\n",
      "   macro avg       0.76      0.70      0.72       154\n",
      "weighted avg       0.77      0.77      0.76       154\n",
      "\n"
     ]
    }
   ],
   "source": [
    "print(classification_report(y_test, gradient.predict(X_test)))"
   ]
  },
  {
   "cell_type": "markdown",
   "metadata": {},
   "source": [
    "## XGBoost"
   ]
  },
  {
   "cell_type": "code",
   "execution_count": 26,
   "metadata": {
    "ExecuteTime": {
     "end_time": "2019-10-31T02:22:21.738039Z",
     "start_time": "2019-10-31T02:22:21.624339Z"
    }
   },
   "outputs": [],
   "source": [
    "from xgboost import XGBClassifier"
   ]
  },
  {
   "cell_type": "code",
   "execution_count": 27,
   "metadata": {
    "ExecuteTime": {
     "end_time": "2019-10-31T02:22:21.747014Z",
     "start_time": "2019-10-31T02:22:21.741029Z"
    }
   },
   "outputs": [],
   "source": [
    "xgboost = XGBClassifier(learning_rate = 0.01, n_estimators = 1000, max_depth = 4, n_jobs = -1)"
   ]
  },
  {
   "cell_type": "code",
   "execution_count": 28,
   "metadata": {
    "ExecuteTime": {
     "end_time": "2019-10-31T02:22:22.783340Z",
     "start_time": "2019-10-31T02:22:21.751999Z"
    }
   },
   "outputs": [
    {
     "data": {
      "text/plain": [
       "XGBClassifier(base_score=0.5, booster='gbtree', colsample_bylevel=1,\n",
       "              colsample_bynode=1, colsample_bytree=1, gamma=0,\n",
       "              learning_rate=0.01, max_delta_step=0, max_depth=4,\n",
       "              min_child_weight=1, missing=None, n_estimators=1000, n_jobs=1,\n",
       "              nthread=None, objective='binary:logistic', random_state=0,\n",
       "              reg_alpha=0, reg_lambda=1, scale_pos_weight=1, seed=None,\n",
       "              silent=None, subsample=1, verbosity=1)"
      ]
     },
     "execution_count": 28,
     "metadata": {},
     "output_type": "execute_result"
    }
   ],
   "source": [
    "xgboost.fit(X_train, y_train)"
   ]
  },
  {
   "cell_type": "code",
   "execution_count": 29,
   "metadata": {
    "ExecuteTime": {
     "end_time": "2019-10-31T02:22:22.852155Z",
     "start_time": "2019-10-31T02:22:22.786333Z"
    }
   },
   "outputs": [
    {
     "name": "stdout",
     "output_type": "stream",
     "text": [
      "              precision    recall  f1-score   support\n",
      "\n",
      "           0       0.94      0.97      0.95       397\n",
      "           1       0.94      0.89      0.91       217\n",
      "\n",
      "    accuracy                           0.94       614\n",
      "   macro avg       0.94      0.93      0.93       614\n",
      "weighted avg       0.94      0.94      0.94       614\n",
      "\n"
     ]
    }
   ],
   "source": [
    "print(classification_report(y_train, xgboost.predict(X_train)))"
   ]
  },
  {
   "cell_type": "code",
   "execution_count": 30,
   "metadata": {
    "ExecuteTime": {
     "end_time": "2019-10-31T02:22:22.883717Z",
     "start_time": "2019-10-31T02:22:22.856144Z"
    }
   },
   "outputs": [
    {
     "name": "stdout",
     "output_type": "stream",
     "text": [
      "              precision    recall  f1-score   support\n",
      "\n",
      "           0       0.82      0.82      0.82       103\n",
      "           1       0.63      0.63      0.63        51\n",
      "\n",
      "    accuracy                           0.75       154\n",
      "   macro avg       0.72      0.72      0.72       154\n",
      "weighted avg       0.75      0.75      0.75       154\n",
      "\n"
     ]
    }
   ],
   "source": [
    "print(classification_report(y_test, xgboost.predict(X_test)))"
   ]
  },
  {
   "cell_type": "code",
   "execution_count": 32,
   "metadata": {
    "ExecuteTime": {
     "end_time": "2019-10-31T03:11:58.432478Z",
     "start_time": "2019-10-31T03:11:58.423502Z"
    }
   },
   "outputs": [
    {
     "data": {
      "text/html": [
       "<div>\n",
       "<style scoped>\n",
       "    .dataframe tbody tr th:only-of-type {\n",
       "        vertical-align: middle;\n",
       "    }\n",
       "\n",
       "    .dataframe tbody tr th {\n",
       "        vertical-align: top;\n",
       "    }\n",
       "\n",
       "    .dataframe thead th {\n",
       "        text-align: right;\n",
       "    }\n",
       "</style>\n",
       "<table border=\"1\" class=\"dataframe\">\n",
       "  <thead>\n",
       "    <tr style=\"text-align: right;\">\n",
       "      <th></th>\n",
       "      <th>num_pregnant</th>\n",
       "      <th>plasma_conc</th>\n",
       "      <th>blood_pressure</th>\n",
       "      <th>tricep_thick</th>\n",
       "      <th>serum_insulin</th>\n",
       "      <th>BMI</th>\n",
       "      <th>d_pedigree</th>\n",
       "      <th>age</th>\n",
       "      <th>diabetes</th>\n",
       "    </tr>\n",
       "  </thead>\n",
       "  <tbody>\n",
       "    <tr>\n",
       "      <th>0</th>\n",
       "      <td>6</td>\n",
       "      <td>148</td>\n",
       "      <td>72</td>\n",
       "      <td>35</td>\n",
       "      <td>0</td>\n",
       "      <td>33.6</td>\n",
       "      <td>0.627</td>\n",
       "      <td>50</td>\n",
       "      <td>1</td>\n",
       "    </tr>\n",
       "    <tr>\n",
       "      <th>1</th>\n",
       "      <td>1</td>\n",
       "      <td>85</td>\n",
       "      <td>66</td>\n",
       "      <td>29</td>\n",
       "      <td>0</td>\n",
       "      <td>26.6</td>\n",
       "      <td>0.351</td>\n",
       "      <td>31</td>\n",
       "      <td>0</td>\n",
       "    </tr>\n",
       "    <tr>\n",
       "      <th>2</th>\n",
       "      <td>8</td>\n",
       "      <td>183</td>\n",
       "      <td>64</td>\n",
       "      <td>0</td>\n",
       "      <td>0</td>\n",
       "      <td>23.3</td>\n",
       "      <td>0.672</td>\n",
       "      <td>32</td>\n",
       "      <td>1</td>\n",
       "    </tr>\n",
       "    <tr>\n",
       "      <th>3</th>\n",
       "      <td>1</td>\n",
       "      <td>89</td>\n",
       "      <td>66</td>\n",
       "      <td>23</td>\n",
       "      <td>94</td>\n",
       "      <td>28.1</td>\n",
       "      <td>0.167</td>\n",
       "      <td>21</td>\n",
       "      <td>0</td>\n",
       "    </tr>\n",
       "    <tr>\n",
       "      <th>4</th>\n",
       "      <td>0</td>\n",
       "      <td>137</td>\n",
       "      <td>40</td>\n",
       "      <td>35</td>\n",
       "      <td>168</td>\n",
       "      <td>43.1</td>\n",
       "      <td>2.288</td>\n",
       "      <td>33</td>\n",
       "      <td>1</td>\n",
       "    </tr>\n",
       "  </tbody>\n",
       "</table>\n",
       "</div>"
      ],
      "text/plain": [
       "   num_pregnant  plasma_conc  blood_pressure  tricep_thick  serum_insulin  \\\n",
       "0             6          148              72            35              0   \n",
       "1             1           85              66            29              0   \n",
       "2             8          183              64             0              0   \n",
       "3             1           89              66            23             94   \n",
       "4             0          137              40            35            168   \n",
       "\n",
       "    BMI  d_pedigree  age  diabetes  \n",
       "0  33.6       0.627   50         1  \n",
       "1  26.6       0.351   31         0  \n",
       "2  23.3       0.672   32         1  \n",
       "3  28.1       0.167   21         0  \n",
       "4  43.1       2.288   33         1  "
      ]
     },
     "execution_count": 32,
     "metadata": {},
     "output_type": "execute_result"
    }
   ],
   "source": [
    "dfdiabetes.head()"
   ]
  },
  {
   "cell_type": "markdown",
   "metadata": {},
   "source": [
    "## Aggregation"
   ]
  },
  {
   "cell_type": "code",
   "execution_count": 35,
   "metadata": {
    "ExecuteTime": {
     "end_time": "2019-10-31T03:13:25.937316Z",
     "start_time": "2019-10-31T03:13:25.927342Z"
    }
   },
   "outputs": [
    {
     "data": {
      "text/html": [
       "<div>\n",
       "<style scoped>\n",
       "    .dataframe tbody tr th:only-of-type {\n",
       "        vertical-align: middle;\n",
       "    }\n",
       "\n",
       "    .dataframe tbody tr th {\n",
       "        vertical-align: top;\n",
       "    }\n",
       "\n",
       "    .dataframe thead th {\n",
       "        text-align: right;\n",
       "    }\n",
       "</style>\n",
       "<table border=\"1\" class=\"dataframe\">\n",
       "  <thead>\n",
       "    <tr style=\"text-align: right;\">\n",
       "      <th></th>\n",
       "      <th>num_pregnant</th>\n",
       "      <th>plasma_conc</th>\n",
       "      <th>blood_pressure</th>\n",
       "      <th>tricep_thick</th>\n",
       "      <th>serum_insulin</th>\n",
       "      <th>BMI</th>\n",
       "      <th>d_pedigree</th>\n",
       "      <th>age</th>\n",
       "      <th>diabetes</th>\n",
       "    </tr>\n",
       "  </thead>\n",
       "  <tbody>\n",
       "    <tr>\n",
       "      <th>0</th>\n",
       "      <td>6</td>\n",
       "      <td>148</td>\n",
       "      <td>72</td>\n",
       "      <td>35</td>\n",
       "      <td>0</td>\n",
       "      <td>33.6</td>\n",
       "      <td>0.627</td>\n",
       "      <td>50</td>\n",
       "      <td>1</td>\n",
       "    </tr>\n",
       "    <tr>\n",
       "      <th>1</th>\n",
       "      <td>1</td>\n",
       "      <td>85</td>\n",
       "      <td>66</td>\n",
       "      <td>29</td>\n",
       "      <td>0</td>\n",
       "      <td>26.6</td>\n",
       "      <td>0.351</td>\n",
       "      <td>31</td>\n",
       "      <td>0</td>\n",
       "    </tr>\n",
       "    <tr>\n",
       "      <th>2</th>\n",
       "      <td>8</td>\n",
       "      <td>183</td>\n",
       "      <td>64</td>\n",
       "      <td>0</td>\n",
       "      <td>0</td>\n",
       "      <td>23.3</td>\n",
       "      <td>0.672</td>\n",
       "      <td>32</td>\n",
       "      <td>1</td>\n",
       "    </tr>\n",
       "    <tr>\n",
       "      <th>3</th>\n",
       "      <td>1</td>\n",
       "      <td>89</td>\n",
       "      <td>66</td>\n",
       "      <td>23</td>\n",
       "      <td>94</td>\n",
       "      <td>28.1</td>\n",
       "      <td>0.167</td>\n",
       "      <td>21</td>\n",
       "      <td>0</td>\n",
       "    </tr>\n",
       "    <tr>\n",
       "      <th>4</th>\n",
       "      <td>0</td>\n",
       "      <td>137</td>\n",
       "      <td>40</td>\n",
       "      <td>35</td>\n",
       "      <td>168</td>\n",
       "      <td>43.1</td>\n",
       "      <td>2.288</td>\n",
       "      <td>33</td>\n",
       "      <td>1</td>\n",
       "    </tr>\n",
       "  </tbody>\n",
       "</table>\n",
       "</div>"
      ],
      "text/plain": [
       "   num_pregnant  plasma_conc  blood_pressure  tricep_thick  serum_insulin  \\\n",
       "0             6          148              72            35              0   \n",
       "1             1           85              66            29              0   \n",
       "2             8          183              64             0              0   \n",
       "3             1           89              66            23             94   \n",
       "4             0          137              40            35            168   \n",
       "\n",
       "    BMI  d_pedigree  age  diabetes  \n",
       "0  33.6       0.627   50         1  \n",
       "1  26.6       0.351   31         0  \n",
       "2  23.3       0.672   32         1  \n",
       "3  28.1       0.167   21         0  \n",
       "4  43.1       2.288   33         1  "
      ]
     },
     "execution_count": 35,
     "metadata": {},
     "output_type": "execute_result"
    }
   ],
   "source": [
    "dfdiabetes.head()"
   ]
  },
  {
   "cell_type": "code",
   "execution_count": 36,
   "metadata": {
    "ExecuteTime": {
     "end_time": "2019-10-31T03:14:18.259450Z",
     "start_time": "2019-10-31T03:14:18.239492Z"
    }
   },
   "outputs": [],
   "source": [
    "agg = dfdiabetes.drop('diabetes', axis = 1).groupby('num_pregnant').agg(['mean', 'std'])"
   ]
  },
  {
   "cell_type": "code",
   "execution_count": 46,
   "metadata": {
    "ExecuteTime": {
     "end_time": "2019-10-31T03:19:47.091831Z",
     "start_time": "2019-10-31T03:19:47.083820Z"
    }
   },
   "outputs": [],
   "source": [
    "agg_plasma = pd.merge(dfdiabetes, agg['plasma_conc'].reset_index(), on = 'num_pregnant')"
   ]
  },
  {
   "cell_type": "code",
   "execution_count": 98,
   "metadata": {
    "ExecuteTime": {
     "end_time": "2019-10-31T03:53:27.450894Z",
     "start_time": "2019-10-31T03:53:27.440923Z"
    }
   },
   "outputs": [
    {
     "data": {
      "text/html": [
       "<div>\n",
       "<style scoped>\n",
       "    .dataframe tbody tr th:only-of-type {\n",
       "        vertical-align: middle;\n",
       "    }\n",
       "\n",
       "    .dataframe tbody tr th {\n",
       "        vertical-align: top;\n",
       "    }\n",
       "\n",
       "    .dataframe thead th {\n",
       "        text-align: right;\n",
       "    }\n",
       "</style>\n",
       "<table border=\"1\" class=\"dataframe\">\n",
       "  <thead>\n",
       "    <tr style=\"text-align: right;\">\n",
       "      <th></th>\n",
       "      <th>num_pregnant</th>\n",
       "      <th>plasma_conc</th>\n",
       "      <th>blood_pressure</th>\n",
       "      <th>tricep_thick</th>\n",
       "      <th>serum_insulin</th>\n",
       "      <th>BMI</th>\n",
       "      <th>d_pedigree</th>\n",
       "      <th>age</th>\n",
       "      <th>diabetes</th>\n",
       "      <th>mean</th>\n",
       "      <th>std</th>\n",
       "    </tr>\n",
       "  </thead>\n",
       "  <tbody>\n",
       "    <tr>\n",
       "      <th>0</th>\n",
       "      <td>6</td>\n",
       "      <td>148</td>\n",
       "      <td>72</td>\n",
       "      <td>35</td>\n",
       "      <td>0</td>\n",
       "      <td>33.6</td>\n",
       "      <td>0.627</td>\n",
       "      <td>50</td>\n",
       "      <td>1</td>\n",
       "      <td>120.8</td>\n",
       "      <td>34.751009</td>\n",
       "    </tr>\n",
       "    <tr>\n",
       "      <th>1</th>\n",
       "      <td>6</td>\n",
       "      <td>92</td>\n",
       "      <td>92</td>\n",
       "      <td>0</td>\n",
       "      <td>0</td>\n",
       "      <td>19.9</td>\n",
       "      <td>0.188</td>\n",
       "      <td>28</td>\n",
       "      <td>0</td>\n",
       "      <td>120.8</td>\n",
       "      <td>34.751009</td>\n",
       "    </tr>\n",
       "    <tr>\n",
       "      <th>2</th>\n",
       "      <td>6</td>\n",
       "      <td>144</td>\n",
       "      <td>72</td>\n",
       "      <td>27</td>\n",
       "      <td>228</td>\n",
       "      <td>33.9</td>\n",
       "      <td>0.255</td>\n",
       "      <td>40</td>\n",
       "      <td>0</td>\n",
       "      <td>120.8</td>\n",
       "      <td>34.751009</td>\n",
       "    </tr>\n",
       "    <tr>\n",
       "      <th>3</th>\n",
       "      <td>6</td>\n",
       "      <td>93</td>\n",
       "      <td>50</td>\n",
       "      <td>30</td>\n",
       "      <td>64</td>\n",
       "      <td>28.7</td>\n",
       "      <td>0.356</td>\n",
       "      <td>23</td>\n",
       "      <td>0</td>\n",
       "      <td>120.8</td>\n",
       "      <td>34.751009</td>\n",
       "    </tr>\n",
       "    <tr>\n",
       "      <th>4</th>\n",
       "      <td>6</td>\n",
       "      <td>111</td>\n",
       "      <td>64</td>\n",
       "      <td>39</td>\n",
       "      <td>0</td>\n",
       "      <td>34.2</td>\n",
       "      <td>0.260</td>\n",
       "      <td>24</td>\n",
       "      <td>0</td>\n",
       "      <td>120.8</td>\n",
       "      <td>34.751009</td>\n",
       "    </tr>\n",
       "  </tbody>\n",
       "</table>\n",
       "</div>"
      ],
      "text/plain": [
       "   num_pregnant  plasma_conc  blood_pressure  tricep_thick  serum_insulin  \\\n",
       "0             6          148              72            35              0   \n",
       "1             6           92              92             0              0   \n",
       "2             6          144              72            27            228   \n",
       "3             6           93              50            30             64   \n",
       "4             6          111              64            39              0   \n",
       "\n",
       "    BMI  d_pedigree  age  diabetes   mean        std  \n",
       "0  33.6       0.627   50         1  120.8  34.751009  \n",
       "1  19.9       0.188   28         0  120.8  34.751009  \n",
       "2  33.9       0.255   40         0  120.8  34.751009  \n",
       "3  28.7       0.356   23         0  120.8  34.751009  \n",
       "4  34.2       0.260   24         0  120.8  34.751009  "
      ]
     },
     "execution_count": 98,
     "metadata": {},
     "output_type": "execute_result"
    }
   ],
   "source": [
    "agg_plasma.head()"
   ]
  },
  {
   "cell_type": "code",
   "execution_count": 55,
   "metadata": {
    "ExecuteTime": {
     "end_time": "2019-10-31T03:25:11.437743Z",
     "start_time": "2019-10-31T03:25:11.432789Z"
    },
    "code_folding": []
   },
   "outputs": [],
   "source": [
    "def create_agg(df):\n",
    "    group_agg = df.drop( 'diabetes', axis = 1).groupby('num_pregnant').agg(['mean', 'sum', 'std', 'min', 'max', 'count'])\n",
    "    for col in df.drop(['diabetes', 'num_pregnant'], axis =1).columns:\n",
    "        category_agg = group_agg[col]\n",
    "        category_agg.columns = ['{}_{}_{}'.format(i,'num_pregnant',col) for i in ['mean', 'sum', 'std', 'min', 'max', 'count']]\n",
    "        df = pd.merge(df, category_agg.reset_index(), on ='num_pregnant')\n",
    "    return df     "
   ]
  },
  {
   "cell_type": "code",
   "execution_count": 57,
   "metadata": {
    "ExecuteTime": {
     "end_time": "2019-10-31T03:25:19.532224Z",
     "start_time": "2019-10-31T03:25:19.435671Z"
    }
   },
   "outputs": [
    {
     "data": {
      "text/html": [
       "<div>\n",
       "<style scoped>\n",
       "    .dataframe tbody tr th:only-of-type {\n",
       "        vertical-align: middle;\n",
       "    }\n",
       "\n",
       "    .dataframe tbody tr th {\n",
       "        vertical-align: top;\n",
       "    }\n",
       "\n",
       "    .dataframe thead th {\n",
       "        text-align: right;\n",
       "    }\n",
       "</style>\n",
       "<table border=\"1\" class=\"dataframe\">\n",
       "  <thead>\n",
       "    <tr style=\"text-align: right;\">\n",
       "      <th></th>\n",
       "      <th>num_pregnant</th>\n",
       "      <th>plasma_conc</th>\n",
       "      <th>blood_pressure</th>\n",
       "      <th>tricep_thick</th>\n",
       "      <th>serum_insulin</th>\n",
       "      <th>BMI</th>\n",
       "      <th>d_pedigree</th>\n",
       "      <th>age</th>\n",
       "      <th>diabetes</th>\n",
       "      <th>mean_num_pregnant_plasma_conc</th>\n",
       "      <th>sum_num_pregnant_plasma_conc</th>\n",
       "      <th>std_num_pregnant_plasma_conc</th>\n",
       "      <th>min_num_pregnant_plasma_conc</th>\n",
       "      <th>max_num_pregnant_plasma_conc</th>\n",
       "      <th>count_num_pregnant_plasma_conc</th>\n",
       "      <th>mean_num_pregnant_blood_pressure</th>\n",
       "      <th>sum_num_pregnant_blood_pressure</th>\n",
       "      <th>std_num_pregnant_blood_pressure</th>\n",
       "      <th>min_num_pregnant_blood_pressure</th>\n",
       "      <th>max_num_pregnant_blood_pressure</th>\n",
       "      <th>count_num_pregnant_blood_pressure</th>\n",
       "      <th>mean_num_pregnant_tricep_thick</th>\n",
       "      <th>sum_num_pregnant_tricep_thick</th>\n",
       "      <th>std_num_pregnant_tricep_thick</th>\n",
       "      <th>min_num_pregnant_tricep_thick</th>\n",
       "      <th>max_num_pregnant_tricep_thick</th>\n",
       "      <th>count_num_pregnant_tricep_thick</th>\n",
       "      <th>mean_num_pregnant_serum_insulin</th>\n",
       "      <th>sum_num_pregnant_serum_insulin</th>\n",
       "      <th>std_num_pregnant_serum_insulin</th>\n",
       "      <th>min_num_pregnant_serum_insulin</th>\n",
       "      <th>max_num_pregnant_serum_insulin</th>\n",
       "      <th>count_num_pregnant_serum_insulin</th>\n",
       "      <th>mean_num_pregnant_BMI</th>\n",
       "      <th>sum_num_pregnant_BMI</th>\n",
       "      <th>std_num_pregnant_BMI</th>\n",
       "      <th>min_num_pregnant_BMI</th>\n",
       "      <th>max_num_pregnant_BMI</th>\n",
       "      <th>count_num_pregnant_BMI</th>\n",
       "      <th>mean_num_pregnant_d_pedigree</th>\n",
       "      <th>sum_num_pregnant_d_pedigree</th>\n",
       "      <th>std_num_pregnant_d_pedigree</th>\n",
       "      <th>min_num_pregnant_d_pedigree</th>\n",
       "      <th>max_num_pregnant_d_pedigree</th>\n",
       "      <th>count_num_pregnant_d_pedigree</th>\n",
       "      <th>mean_num_pregnant_age</th>\n",
       "      <th>sum_num_pregnant_age</th>\n",
       "      <th>std_num_pregnant_age</th>\n",
       "      <th>min_num_pregnant_age</th>\n",
       "      <th>max_num_pregnant_age</th>\n",
       "      <th>count_num_pregnant_age</th>\n",
       "    </tr>\n",
       "  </thead>\n",
       "  <tbody>\n",
       "    <tr>\n",
       "      <th>0</th>\n",
       "      <td>6</td>\n",
       "      <td>148</td>\n",
       "      <td>72</td>\n",
       "      <td>35</td>\n",
       "      <td>0</td>\n",
       "      <td>33.6</td>\n",
       "      <td>0.627</td>\n",
       "      <td>50</td>\n",
       "      <td>1</td>\n",
       "      <td>120.8</td>\n",
       "      <td>6040</td>\n",
       "      <td>34.751009</td>\n",
       "      <td>0</td>\n",
       "      <td>195</td>\n",
       "      <td>50</td>\n",
       "      <td>68.42</td>\n",
       "      <td>3421</td>\n",
       "      <td>20.956797</td>\n",
       "      <td>0</td>\n",
       "      <td>96</td>\n",
       "      <td>50</td>\n",
       "      <td>17.64</td>\n",
       "      <td>882</td>\n",
       "      <td>16.384114</td>\n",
       "      <td>0</td>\n",
       "      <td>45</td>\n",
       "      <td>50</td>\n",
       "      <td>63.58</td>\n",
       "      <td>3179</td>\n",
       "      <td>95.686156</td>\n",
       "      <td>0</td>\n",
       "      <td>370</td>\n",
       "      <td>50</td>\n",
       "      <td>30.29</td>\n",
       "      <td>1514.5</td>\n",
       "      <td>7.327562</td>\n",
       "      <td>0.0</td>\n",
       "      <td>46.2</td>\n",
       "      <td>50</td>\n",
       "      <td>0.42952</td>\n",
       "      <td>21.476</td>\n",
       "      <td>0.301164</td>\n",
       "      <td>0.084</td>\n",
       "      <td>1.461</td>\n",
       "      <td>50</td>\n",
       "      <td>39.34</td>\n",
       "      <td>1967</td>\n",
       "      <td>11.966978</td>\n",
       "      <td>23</td>\n",
       "      <td>66</td>\n",
       "      <td>50</td>\n",
       "    </tr>\n",
       "    <tr>\n",
       "      <th>1</th>\n",
       "      <td>6</td>\n",
       "      <td>92</td>\n",
       "      <td>92</td>\n",
       "      <td>0</td>\n",
       "      <td>0</td>\n",
       "      <td>19.9</td>\n",
       "      <td>0.188</td>\n",
       "      <td>28</td>\n",
       "      <td>0</td>\n",
       "      <td>120.8</td>\n",
       "      <td>6040</td>\n",
       "      <td>34.751009</td>\n",
       "      <td>0</td>\n",
       "      <td>195</td>\n",
       "      <td>50</td>\n",
       "      <td>68.42</td>\n",
       "      <td>3421</td>\n",
       "      <td>20.956797</td>\n",
       "      <td>0</td>\n",
       "      <td>96</td>\n",
       "      <td>50</td>\n",
       "      <td>17.64</td>\n",
       "      <td>882</td>\n",
       "      <td>16.384114</td>\n",
       "      <td>0</td>\n",
       "      <td>45</td>\n",
       "      <td>50</td>\n",
       "      <td>63.58</td>\n",
       "      <td>3179</td>\n",
       "      <td>95.686156</td>\n",
       "      <td>0</td>\n",
       "      <td>370</td>\n",
       "      <td>50</td>\n",
       "      <td>30.29</td>\n",
       "      <td>1514.5</td>\n",
       "      <td>7.327562</td>\n",
       "      <td>0.0</td>\n",
       "      <td>46.2</td>\n",
       "      <td>50</td>\n",
       "      <td>0.42952</td>\n",
       "      <td>21.476</td>\n",
       "      <td>0.301164</td>\n",
       "      <td>0.084</td>\n",
       "      <td>1.461</td>\n",
       "      <td>50</td>\n",
       "      <td>39.34</td>\n",
       "      <td>1967</td>\n",
       "      <td>11.966978</td>\n",
       "      <td>23</td>\n",
       "      <td>66</td>\n",
       "      <td>50</td>\n",
       "    </tr>\n",
       "    <tr>\n",
       "      <th>2</th>\n",
       "      <td>6</td>\n",
       "      <td>144</td>\n",
       "      <td>72</td>\n",
       "      <td>27</td>\n",
       "      <td>228</td>\n",
       "      <td>33.9</td>\n",
       "      <td>0.255</td>\n",
       "      <td>40</td>\n",
       "      <td>0</td>\n",
       "      <td>120.8</td>\n",
       "      <td>6040</td>\n",
       "      <td>34.751009</td>\n",
       "      <td>0</td>\n",
       "      <td>195</td>\n",
       "      <td>50</td>\n",
       "      <td>68.42</td>\n",
       "      <td>3421</td>\n",
       "      <td>20.956797</td>\n",
       "      <td>0</td>\n",
       "      <td>96</td>\n",
       "      <td>50</td>\n",
       "      <td>17.64</td>\n",
       "      <td>882</td>\n",
       "      <td>16.384114</td>\n",
       "      <td>0</td>\n",
       "      <td>45</td>\n",
       "      <td>50</td>\n",
       "      <td>63.58</td>\n",
       "      <td>3179</td>\n",
       "      <td>95.686156</td>\n",
       "      <td>0</td>\n",
       "      <td>370</td>\n",
       "      <td>50</td>\n",
       "      <td>30.29</td>\n",
       "      <td>1514.5</td>\n",
       "      <td>7.327562</td>\n",
       "      <td>0.0</td>\n",
       "      <td>46.2</td>\n",
       "      <td>50</td>\n",
       "      <td>0.42952</td>\n",
       "      <td>21.476</td>\n",
       "      <td>0.301164</td>\n",
       "      <td>0.084</td>\n",
       "      <td>1.461</td>\n",
       "      <td>50</td>\n",
       "      <td>39.34</td>\n",
       "      <td>1967</td>\n",
       "      <td>11.966978</td>\n",
       "      <td>23</td>\n",
       "      <td>66</td>\n",
       "      <td>50</td>\n",
       "    </tr>\n",
       "    <tr>\n",
       "      <th>3</th>\n",
       "      <td>6</td>\n",
       "      <td>93</td>\n",
       "      <td>50</td>\n",
       "      <td>30</td>\n",
       "      <td>64</td>\n",
       "      <td>28.7</td>\n",
       "      <td>0.356</td>\n",
       "      <td>23</td>\n",
       "      <td>0</td>\n",
       "      <td>120.8</td>\n",
       "      <td>6040</td>\n",
       "      <td>34.751009</td>\n",
       "      <td>0</td>\n",
       "      <td>195</td>\n",
       "      <td>50</td>\n",
       "      <td>68.42</td>\n",
       "      <td>3421</td>\n",
       "      <td>20.956797</td>\n",
       "      <td>0</td>\n",
       "      <td>96</td>\n",
       "      <td>50</td>\n",
       "      <td>17.64</td>\n",
       "      <td>882</td>\n",
       "      <td>16.384114</td>\n",
       "      <td>0</td>\n",
       "      <td>45</td>\n",
       "      <td>50</td>\n",
       "      <td>63.58</td>\n",
       "      <td>3179</td>\n",
       "      <td>95.686156</td>\n",
       "      <td>0</td>\n",
       "      <td>370</td>\n",
       "      <td>50</td>\n",
       "      <td>30.29</td>\n",
       "      <td>1514.5</td>\n",
       "      <td>7.327562</td>\n",
       "      <td>0.0</td>\n",
       "      <td>46.2</td>\n",
       "      <td>50</td>\n",
       "      <td>0.42952</td>\n",
       "      <td>21.476</td>\n",
       "      <td>0.301164</td>\n",
       "      <td>0.084</td>\n",
       "      <td>1.461</td>\n",
       "      <td>50</td>\n",
       "      <td>39.34</td>\n",
       "      <td>1967</td>\n",
       "      <td>11.966978</td>\n",
       "      <td>23</td>\n",
       "      <td>66</td>\n",
       "      <td>50</td>\n",
       "    </tr>\n",
       "    <tr>\n",
       "      <th>4</th>\n",
       "      <td>6</td>\n",
       "      <td>111</td>\n",
       "      <td>64</td>\n",
       "      <td>39</td>\n",
       "      <td>0</td>\n",
       "      <td>34.2</td>\n",
       "      <td>0.260</td>\n",
       "      <td>24</td>\n",
       "      <td>0</td>\n",
       "      <td>120.8</td>\n",
       "      <td>6040</td>\n",
       "      <td>34.751009</td>\n",
       "      <td>0</td>\n",
       "      <td>195</td>\n",
       "      <td>50</td>\n",
       "      <td>68.42</td>\n",
       "      <td>3421</td>\n",
       "      <td>20.956797</td>\n",
       "      <td>0</td>\n",
       "      <td>96</td>\n",
       "      <td>50</td>\n",
       "      <td>17.64</td>\n",
       "      <td>882</td>\n",
       "      <td>16.384114</td>\n",
       "      <td>0</td>\n",
       "      <td>45</td>\n",
       "      <td>50</td>\n",
       "      <td>63.58</td>\n",
       "      <td>3179</td>\n",
       "      <td>95.686156</td>\n",
       "      <td>0</td>\n",
       "      <td>370</td>\n",
       "      <td>50</td>\n",
       "      <td>30.29</td>\n",
       "      <td>1514.5</td>\n",
       "      <td>7.327562</td>\n",
       "      <td>0.0</td>\n",
       "      <td>46.2</td>\n",
       "      <td>50</td>\n",
       "      <td>0.42952</td>\n",
       "      <td>21.476</td>\n",
       "      <td>0.301164</td>\n",
       "      <td>0.084</td>\n",
       "      <td>1.461</td>\n",
       "      <td>50</td>\n",
       "      <td>39.34</td>\n",
       "      <td>1967</td>\n",
       "      <td>11.966978</td>\n",
       "      <td>23</td>\n",
       "      <td>66</td>\n",
       "      <td>50</td>\n",
       "    </tr>\n",
       "  </tbody>\n",
       "</table>\n",
       "</div>"
      ],
      "text/plain": [
       "   num_pregnant  plasma_conc  blood_pressure  tricep_thick  serum_insulin  \\\n",
       "0             6          148              72            35              0   \n",
       "1             6           92              92             0              0   \n",
       "2             6          144              72            27            228   \n",
       "3             6           93              50            30             64   \n",
       "4             6          111              64            39              0   \n",
       "\n",
       "    BMI  d_pedigree  age  diabetes  mean_num_pregnant_plasma_conc  \\\n",
       "0  33.6       0.627   50         1                          120.8   \n",
       "1  19.9       0.188   28         0                          120.8   \n",
       "2  33.9       0.255   40         0                          120.8   \n",
       "3  28.7       0.356   23         0                          120.8   \n",
       "4  34.2       0.260   24         0                          120.8   \n",
       "\n",
       "   sum_num_pregnant_plasma_conc  std_num_pregnant_plasma_conc  \\\n",
       "0                          6040                     34.751009   \n",
       "1                          6040                     34.751009   \n",
       "2                          6040                     34.751009   \n",
       "3                          6040                     34.751009   \n",
       "4                          6040                     34.751009   \n",
       "\n",
       "   min_num_pregnant_plasma_conc  max_num_pregnant_plasma_conc  \\\n",
       "0                             0                           195   \n",
       "1                             0                           195   \n",
       "2                             0                           195   \n",
       "3                             0                           195   \n",
       "4                             0                           195   \n",
       "\n",
       "   count_num_pregnant_plasma_conc  mean_num_pregnant_blood_pressure  \\\n",
       "0                              50                             68.42   \n",
       "1                              50                             68.42   \n",
       "2                              50                             68.42   \n",
       "3                              50                             68.42   \n",
       "4                              50                             68.42   \n",
       "\n",
       "   sum_num_pregnant_blood_pressure  std_num_pregnant_blood_pressure  \\\n",
       "0                             3421                        20.956797   \n",
       "1                             3421                        20.956797   \n",
       "2                             3421                        20.956797   \n",
       "3                             3421                        20.956797   \n",
       "4                             3421                        20.956797   \n",
       "\n",
       "   min_num_pregnant_blood_pressure  max_num_pregnant_blood_pressure  \\\n",
       "0                                0                               96   \n",
       "1                                0                               96   \n",
       "2                                0                               96   \n",
       "3                                0                               96   \n",
       "4                                0                               96   \n",
       "\n",
       "   count_num_pregnant_blood_pressure  mean_num_pregnant_tricep_thick  \\\n",
       "0                                 50                           17.64   \n",
       "1                                 50                           17.64   \n",
       "2                                 50                           17.64   \n",
       "3                                 50                           17.64   \n",
       "4                                 50                           17.64   \n",
       "\n",
       "   sum_num_pregnant_tricep_thick  std_num_pregnant_tricep_thick  \\\n",
       "0                            882                      16.384114   \n",
       "1                            882                      16.384114   \n",
       "2                            882                      16.384114   \n",
       "3                            882                      16.384114   \n",
       "4                            882                      16.384114   \n",
       "\n",
       "   min_num_pregnant_tricep_thick  max_num_pregnant_tricep_thick  \\\n",
       "0                              0                             45   \n",
       "1                              0                             45   \n",
       "2                              0                             45   \n",
       "3                              0                             45   \n",
       "4                              0                             45   \n",
       "\n",
       "   count_num_pregnant_tricep_thick  mean_num_pregnant_serum_insulin  \\\n",
       "0                               50                            63.58   \n",
       "1                               50                            63.58   \n",
       "2                               50                            63.58   \n",
       "3                               50                            63.58   \n",
       "4                               50                            63.58   \n",
       "\n",
       "   sum_num_pregnant_serum_insulin  std_num_pregnant_serum_insulin  \\\n",
       "0                            3179                       95.686156   \n",
       "1                            3179                       95.686156   \n",
       "2                            3179                       95.686156   \n",
       "3                            3179                       95.686156   \n",
       "4                            3179                       95.686156   \n",
       "\n",
       "   min_num_pregnant_serum_insulin  max_num_pregnant_serum_insulin  \\\n",
       "0                               0                             370   \n",
       "1                               0                             370   \n",
       "2                               0                             370   \n",
       "3                               0                             370   \n",
       "4                               0                             370   \n",
       "\n",
       "   count_num_pregnant_serum_insulin  mean_num_pregnant_BMI  \\\n",
       "0                                50                  30.29   \n",
       "1                                50                  30.29   \n",
       "2                                50                  30.29   \n",
       "3                                50                  30.29   \n",
       "4                                50                  30.29   \n",
       "\n",
       "   sum_num_pregnant_BMI  std_num_pregnant_BMI  min_num_pregnant_BMI  \\\n",
       "0                1514.5              7.327562                   0.0   \n",
       "1                1514.5              7.327562                   0.0   \n",
       "2                1514.5              7.327562                   0.0   \n",
       "3                1514.5              7.327562                   0.0   \n",
       "4                1514.5              7.327562                   0.0   \n",
       "\n",
       "   max_num_pregnant_BMI  count_num_pregnant_BMI  mean_num_pregnant_d_pedigree  \\\n",
       "0                  46.2                      50                       0.42952   \n",
       "1                  46.2                      50                       0.42952   \n",
       "2                  46.2                      50                       0.42952   \n",
       "3                  46.2                      50                       0.42952   \n",
       "4                  46.2                      50                       0.42952   \n",
       "\n",
       "   sum_num_pregnant_d_pedigree  std_num_pregnant_d_pedigree  \\\n",
       "0                       21.476                     0.301164   \n",
       "1                       21.476                     0.301164   \n",
       "2                       21.476                     0.301164   \n",
       "3                       21.476                     0.301164   \n",
       "4                       21.476                     0.301164   \n",
       "\n",
       "   min_num_pregnant_d_pedigree  max_num_pregnant_d_pedigree  \\\n",
       "0                        0.084                        1.461   \n",
       "1                        0.084                        1.461   \n",
       "2                        0.084                        1.461   \n",
       "3                        0.084                        1.461   \n",
       "4                        0.084                        1.461   \n",
       "\n",
       "   count_num_pregnant_d_pedigree  mean_num_pregnant_age  sum_num_pregnant_age  \\\n",
       "0                             50                  39.34                  1967   \n",
       "1                             50                  39.34                  1967   \n",
       "2                             50                  39.34                  1967   \n",
       "3                             50                  39.34                  1967   \n",
       "4                             50                  39.34                  1967   \n",
       "\n",
       "   std_num_pregnant_age  min_num_pregnant_age  max_num_pregnant_age  \\\n",
       "0             11.966978                    23                    66   \n",
       "1             11.966978                    23                    66   \n",
       "2             11.966978                    23                    66   \n",
       "3             11.966978                    23                    66   \n",
       "4             11.966978                    23                    66   \n",
       "\n",
       "   count_num_pregnant_age  \n",
       "0                      50  \n",
       "1                      50  \n",
       "2                      50  \n",
       "3                      50  \n",
       "4                      50  "
      ]
     },
     "execution_count": 57,
     "metadata": {},
     "output_type": "execute_result"
    }
   ],
   "source": [
    "create_agg(dfdiabetes).head()"
   ]
  },
  {
   "cell_type": "code",
   "execution_count": 101,
   "metadata": {
    "ExecuteTime": {
     "end_time": "2019-10-31T04:00:49.830619Z",
     "start_time": "2019-10-31T04:00:47.656470Z"
    }
   },
   "outputs": [
    {
     "data": {
      "text/plain": [
       "<matplotlib.axes._subplots.AxesSubplot at 0x27e65cd0fd0>"
      ]
     },
     "execution_count": 101,
     "metadata": {},
     "output_type": "execute_result"
    },
    {
     "data": {
      "image/png": "[encoded data removed]",
      "text/plain": [
       "<Figure size 1440x1440 with 2 Axes>"
      ]
     },
     "metadata": {
      "needs_background": "light"
     },
     "output_type": "display_data"
    }
   ],
   "source": [
    "import seaborn as sns\n",
    "import matplotlib.pyplot as plt\n",
    "\n",
    "plt.figure(figsize = (20,20))\n",
    "sns.heatmap(create_agg(dfdiabetes).corr())"
   ]
  },
  {
   "cell_type": "code",
   "execution_count": 95,
   "metadata": {
    "ExecuteTime": {
     "end_time": "2019-10-31T03:49:46.395411Z",
     "start_time": "2019-10-31T03:49:46.310638Z"
    }
   },
   "outputs": [
    {
     "name": "stdout",
     "output_type": "stream",
     "text": [
      "<class 'pandas.core.frame.DataFrame'>\n",
      "Int64Index: 768 entries, 0 to 767\n",
      "Data columns (total 51 columns):\n",
      "num_pregnant                         768 non-null int64\n",
      "plasma_conc                          768 non-null int64\n",
      "blood_pressure                       768 non-null int64\n",
      "tricep_thick                         768 non-null int64\n",
      "serum_insulin                        768 non-null int64\n",
      "BMI                                  768 non-null float64\n",
      "d_pedigree                           768 non-null float64\n",
      "age                                  768 non-null int64\n",
      "diabetes                             768 non-null int64\n",
      "mean_num_pregnant_plasma_conc        768 non-null float64\n",
      "sum_num_pregnant_plasma_conc         768 non-null int64\n",
      "std_num_pregnant_plasma_conc         766 non-null float64\n",
      "min_num_pregnant_plasma_conc         768 non-null int64\n",
      "max_num_pregnant_plasma_conc         768 non-null int64\n",
      "count_num_pregnant_plasma_conc       768 non-null int64\n",
      "mean_num_pregnant_blood_pressure     768 non-null float64\n",
      "sum_num_pregnant_blood_pressure      768 non-null int64\n",
      "std_num_pregnant_blood_pressure      766 non-null float64\n",
      "min_num_pregnant_blood_pressure      768 non-null int64\n",
      "max_num_pregnant_blood_pressure      768 non-null int64\n",
      "count_num_pregnant_blood_pressure    768 non-null int64\n",
      "mean_num_pregnant_tricep_thick       768 non-null float64\n",
      "sum_num_pregnant_tricep_thick        768 non-null int64\n",
      "std_num_pregnant_tricep_thick        766 non-null float64\n",
      "min_num_pregnant_tricep_thick        768 non-null int64\n",
      "max_num_pregnant_tricep_thick        768 non-null int64\n",
      "count_num_pregnant_tricep_thick      768 non-null int64\n",
      "mean_num_pregnant_serum_insulin      768 non-null float64\n",
      "sum_num_pregnant_serum_insulin       768 non-null int64\n",
      "std_num_pregnant_serum_insulin       766 non-null float64\n",
      "min_num_pregnant_serum_insulin       768 non-null int64\n",
      "max_num_pregnant_serum_insulin       768 non-null int64\n",
      "count_num_pregnant_serum_insulin     768 non-null int64\n",
      "mean_num_pregnant_BMI                768 non-null float64\n",
      "sum_num_pregnant_BMI                 768 non-null float64\n",
      "std_num_pregnant_BMI                 766 non-null float64\n",
      "min_num_pregnant_BMI                 768 non-null float64\n",
      "max_num_pregnant_BMI                 768 non-null float64\n",
      "count_num_pregnant_BMI               768 non-null int64\n",
      "mean_num_pregnant_d_pedigree         768 non-null float64\n",
      "sum_num_pregnant_d_pedigree          768 non-null float64\n",
      "std_num_pregnant_d_pedigree          766 non-null float64\n",
      "min_num_pregnant_d_pedigree          768 non-null float64\n",
      "max_num_pregnant_d_pedigree          768 non-null float64\n",
      "count_num_pregnant_d_pedigree        768 non-null int64\n",
      "mean_num_pregnant_age                768 non-null float64\n",
      "sum_num_pregnant_age                 768 non-null int64\n",
      "std_num_pregnant_age                 766 non-null float64\n",
      "min_num_pregnant_age                 768 non-null int64\n",
      "max_num_pregnant_age                 768 non-null int64\n",
      "count_num_pregnant_age               768 non-null int64\n",
      "dtypes: float64(22), int64(29)\n",
      "memory usage: 312.0 KB\n"
     ]
    }
   ],
   "source": [
    "create_agg(dfdiabetes).info()"
   ]
  },
  {
   "cell_type": "code",
   "execution_count": null,
   "metadata": {},
   "outputs": [],
   "source": [
    "['mean', 'sum', 'std', 'min', 'max', 'count']"
   ]
  },
  {
   "cell_type": "code",
   "execution_count": 88,
   "metadata": {
    "ExecuteTime": {
     "end_time": "2019-10-31T03:40:42.501585Z",
     "start_time": "2019-10-31T03:40:42.425739Z"
    }
   },
   "outputs": [],
   "source": [
    "new_dfdiabetes = create_agg(dfdiabetes).fillna(0)"
   ]
  },
  {
   "cell_type": "code",
   "execution_count": 89,
   "metadata": {
    "ExecuteTime": {
     "end_time": "2019-10-31T03:40:43.584791Z",
     "start_time": "2019-10-31T03:40:43.578931Z"
    }
   },
   "outputs": [],
   "source": [
    "X_train, X_test, y_train, y_test = train_test_split(new_dfdiabetes.drop('diabetes', axis =1), new_dfdiabetes['diabetes'],\n",
    "                                                    test_size = 0.2, random_state = 101)"
   ]
  },
  {
   "cell_type": "code",
   "execution_count": 90,
   "metadata": {
    "ExecuteTime": {
     "end_time": "2019-10-31T03:40:45.724679Z",
     "start_time": "2019-10-31T03:40:44.668538Z"
    }
   },
   "outputs": [
    {
     "data": {
      "text/plain": [
       "XGBClassifier(base_score=0.5, booster='gbtree', colsample_bylevel=1,\n",
       "              colsample_bynode=1, colsample_bytree=1, gamma=0,\n",
       "              learning_rate=0.01, max_delta_step=0, max_depth=4,\n",
       "              min_child_weight=1, missing=None, n_estimators=1000, n_jobs=1,\n",
       "              nthread=None, objective='binary:logistic', random_state=0,\n",
       "              reg_alpha=0, reg_lambda=1, scale_pos_weight=1, seed=None,\n",
       "              silent=None, subsample=1, verbosity=1)"
      ]
     },
     "execution_count": 90,
     "metadata": {},
     "output_type": "execute_result"
    }
   ],
   "source": [
    "xgboost.fit(X_train, y_train)"
   ]
  },
  {
   "cell_type": "code",
   "execution_count": 91,
   "metadata": {
    "ExecuteTime": {
     "end_time": "2019-10-31T03:40:46.851333Z",
     "start_time": "2019-10-31T03:40:46.825348Z"
    }
   },
   "outputs": [
    {
     "name": "stdout",
     "output_type": "stream",
     "text": [
      "              precision    recall  f1-score   support\n",
      "\n",
      "           0       0.95      0.98      0.96       392\n",
      "           1       0.96      0.91      0.93       222\n",
      "\n",
      "    accuracy                           0.95       614\n",
      "   macro avg       0.95      0.94      0.95       614\n",
      "weighted avg       0.95      0.95      0.95       614\n",
      "\n"
     ]
    }
   ],
   "source": [
    "print(classification_report(y_train, xgboost.predict(X_train)))"
   ]
  },
  {
   "cell_type": "code",
   "execution_count": 92,
   "metadata": {
    "ExecuteTime": {
     "end_time": "2019-10-31T03:40:47.961369Z",
     "start_time": "2019-10-31T03:40:47.949373Z"
    }
   },
   "outputs": [
    {
     "name": "stdout",
     "output_type": "stream",
     "text": [
      "              precision    recall  f1-score   support\n",
      "\n",
      "           0       0.84      0.80      0.82       108\n",
      "           1       0.58      0.65      0.61        46\n",
      "\n",
      "    accuracy                           0.75       154\n",
      "   macro avg       0.71      0.72      0.72       154\n",
      "weighted avg       0.76      0.75      0.76       154\n",
      "\n"
     ]
    }
   ],
   "source": [
    "print(classification_report(y_test, xgboost.predict(X_test)))"
   ]
  },
  {
   "cell_type": "code",
   "execution_count": 70,
   "metadata": {
    "ExecuteTime": {
     "end_time": "2019-10-31T03:37:07.836137Z",
     "start_time": "2019-10-31T03:37:07.832147Z"
    }
   },
   "outputs": [],
   "source": [
    "from sklearn.decomposition import PCA\n",
    "from sklearn.preprocessing import StandardScaler"
   ]
  },
  {
   "cell_type": "code",
   "execution_count": 93,
   "metadata": {
    "ExecuteTime": {
     "end_time": "2019-10-31T03:40:52.322932Z",
     "start_time": "2019-10-31T03:40:52.315952Z"
    }
   },
   "outputs": [],
   "source": [
    "def try_w_pca(df, train_index, test_index):\n",
    "    scaler = StandardScaler()\n",
    "    target = df['diabetes']\n",
    "    df = df.drop('diabetes', axis = 1)\n",
    "    df = pd.DataFrame(scaler.fit_transform(df), columns = df.columns)\n",
    "    for pc in range(2, 11):\n",
    "        pca = PCA(n_components = pc)\n",
    "        df_pca =pd.DataFrame(pca.fit_transform(df))\n",
    "        X_train = df_pca.iloc[train_index]\n",
    "        X_test = df_pca.iloc[test_index]\n",
    "        y_train = target.iloc[train_index]\n",
    "        y_test = target.iloc[test_index]\n",
    "        xgboost.fit(X_train, y_train)\n",
    "        print('pc = {} and train'.format(pc))\n",
    "        print(classification_report(y_train, xgboost.predict(X_train)))\n",
    "        print('pc = {} and test'.format(pc))\n",
    "        print(classification_report(y_test, xgboost.predict(X_test)))"
   ]
  },
  {
   "cell_type": "code",
   "execution_count": 94,
   "metadata": {
    "ExecuteTime": {
     "end_time": "2019-10-31T03:40:58.153498Z",
     "start_time": "2019-10-31T03:40:53.411163Z"
    }
   },
   "outputs": [
    {
     "name": "stdout",
     "output_type": "stream",
     "text": [
      "pc = 2 and train\n",
      "              precision    recall  f1-score   support\n",
      "\n",
      "           0       0.84      0.90      0.87       392\n",
      "           1       0.79      0.70      0.74       222\n",
      "\n",
      "    accuracy                           0.83       614\n",
      "   macro avg       0.82      0.80      0.81       614\n",
      "weighted avg       0.82      0.83      0.82       614\n",
      "\n",
      "pc = 2 and test\n",
      "              precision    recall  f1-score   support\n",
      "\n",
      "           0       0.79      0.75      0.77       108\n",
      "           1       0.48      0.54      0.51        46\n",
      "\n",
      "    accuracy                           0.69       154\n",
      "   macro avg       0.64      0.65      0.64       154\n",
      "weighted avg       0.70      0.69      0.69       154\n",
      "\n",
      "pc = 3 and train\n",
      "              precision    recall  f1-score   support\n",
      "\n",
      "           0       0.89      0.91      0.90       392\n",
      "           1       0.84      0.80      0.82       222\n",
      "\n",
      "    accuracy                           0.87       614\n",
      "   macro avg       0.86      0.86      0.86       614\n",
      "weighted avg       0.87      0.87      0.87       614\n",
      "\n",
      "pc = 3 and test\n",
      "              precision    recall  f1-score   support\n",
      "\n",
      "           0       0.79      0.79      0.79       108\n",
      "           1       0.50      0.50      0.50        46\n",
      "\n",
      "    accuracy                           0.70       154\n",
      "   macro avg       0.64      0.64      0.64       154\n",
      "weighted avg       0.70      0.70      0.70       154\n",
      "\n",
      "pc = 4 and train\n",
      "              precision    recall  f1-score   support\n",
      "\n",
      "           0       0.88      0.95      0.91       392\n",
      "           1       0.89      0.77      0.83       222\n",
      "\n",
      "    accuracy                           0.88       614\n",
      "   macro avg       0.89      0.86      0.87       614\n",
      "weighted avg       0.88      0.88      0.88       614\n",
      "\n",
      "pc = 4 and test\n",
      "              precision    recall  f1-score   support\n",
      "\n",
      "           0       0.77      0.79      0.78       108\n",
      "           1       0.47      0.43      0.45        46\n",
      "\n",
      "    accuracy                           0.68       154\n",
      "   macro avg       0.62      0.61      0.61       154\n",
      "weighted avg       0.68      0.68      0.68       154\n",
      "\n",
      "pc = 5 and train\n",
      "              precision    recall  f1-score   support\n",
      "\n",
      "           0       0.89      0.97      0.93       392\n",
      "           1       0.93      0.80      0.86       222\n",
      "\n",
      "    accuracy                           0.91       614\n",
      "   macro avg       0.91      0.88      0.89       614\n",
      "weighted avg       0.91      0.91      0.90       614\n",
      "\n",
      "pc = 5 and test\n",
      "              precision    recall  f1-score   support\n",
      "\n",
      "           0       0.79      0.81      0.80       108\n",
      "           1       0.52      0.48      0.50        46\n",
      "\n",
      "    accuracy                           0.71       154\n",
      "   macro avg       0.65      0.65      0.65       154\n",
      "weighted avg       0.71      0.71      0.71       154\n",
      "\n",
      "pc = 6 and train\n",
      "              precision    recall  f1-score   support\n",
      "\n",
      "           0       0.90      0.97      0.94       392\n",
      "           1       0.94      0.82      0.88       222\n",
      "\n",
      "    accuracy                           0.92       614\n",
      "   macro avg       0.92      0.89      0.91       614\n",
      "weighted avg       0.92      0.92      0.91       614\n",
      "\n",
      "pc = 6 and test\n",
      "              precision    recall  f1-score   support\n",
      "\n",
      "           0       0.79      0.81      0.80       108\n",
      "           1       0.52      0.48      0.50        46\n",
      "\n",
      "    accuracy                           0.71       154\n",
      "   macro avg       0.65      0.65      0.65       154\n",
      "weighted avg       0.71      0.71      0.71       154\n",
      "\n",
      "pc = 7 and train\n",
      "              precision    recall  f1-score   support\n",
      "\n",
      "           0       0.90      0.97      0.93       392\n",
      "           1       0.94      0.81      0.87       222\n",
      "\n",
      "    accuracy                           0.91       614\n",
      "   macro avg       0.92      0.89      0.90       614\n",
      "weighted avg       0.92      0.91      0.91       614\n",
      "\n",
      "pc = 7 and test\n",
      "              precision    recall  f1-score   support\n",
      "\n",
      "           0       0.80      0.81      0.81       108\n",
      "           1       0.55      0.52      0.53        46\n",
      "\n",
      "    accuracy                           0.73       154\n",
      "   macro avg       0.67      0.67      0.67       154\n",
      "weighted avg       0.72      0.73      0.73       154\n",
      "\n",
      "pc = 8 and train\n",
      "              precision    recall  f1-score   support\n",
      "\n",
      "           0       0.90      0.97      0.94       392\n",
      "           1       0.94      0.82      0.88       222\n",
      "\n",
      "    accuracy                           0.92       614\n",
      "   macro avg       0.92      0.89      0.91       614\n",
      "weighted avg       0.92      0.92      0.91       614\n",
      "\n",
      "pc = 8 and test\n",
      "              precision    recall  f1-score   support\n",
      "\n",
      "           0       0.78      0.80      0.79       108\n",
      "           1       0.50      0.48      0.49        46\n",
      "\n",
      "    accuracy                           0.70       154\n",
      "   macro avg       0.64      0.64      0.64       154\n",
      "weighted avg       0.70      0.70      0.70       154\n",
      "\n",
      "pc = 9 and train\n",
      "              precision    recall  f1-score   support\n",
      "\n",
      "           0       0.92      0.97      0.94       392\n",
      "           1       0.94      0.85      0.89       222\n",
      "\n",
      "    accuracy                           0.93       614\n",
      "   macro avg       0.93      0.91      0.92       614\n",
      "weighted avg       0.93      0.93      0.92       614\n",
      "\n",
      "pc = 9 and test\n",
      "              precision    recall  f1-score   support\n",
      "\n",
      "           0       0.78      0.81      0.80       108\n",
      "           1       0.51      0.46      0.48        46\n",
      "\n",
      "    accuracy                           0.71       154\n",
      "   macro avg       0.65      0.64      0.64       154\n",
      "weighted avg       0.70      0.71      0.70       154\n",
      "\n",
      "pc = 10 and train\n",
      "              precision    recall  f1-score   support\n",
      "\n",
      "           0       0.92      0.96      0.94       392\n",
      "           1       0.93      0.86      0.89       222\n",
      "\n",
      "    accuracy                           0.93       614\n",
      "   macro avg       0.93      0.91      0.92       614\n",
      "weighted avg       0.93      0.93      0.93       614\n",
      "\n",
      "pc = 10 and test\n",
      "              precision    recall  f1-score   support\n",
      "\n",
      "           0       0.80      0.81      0.80       108\n",
      "           1       0.53      0.52      0.53        46\n",
      "\n",
      "    accuracy                           0.72       154\n",
      "   macro avg       0.67      0.66      0.66       154\n",
      "weighted avg       0.72      0.72      0.72       154\n",
      "\n"
     ]
    }
   ],
   "source": [
    "try_w_pca(new_dfdiabetes, X_train.index, X_test.index)"
   ]
  },
  {
   "cell_type": "code",
   "execution_count": null,
   "metadata": {},
   "outputs": [],
   "source": []
  }
 ],
 "metadata": {
  "hide_input": false,
  "kernelspec": {
   "display_name": "Python 3",
   "language": "python",
   "name": "python3"
  },
  "language_info": {
   "codemirror_mode": {
    "name": "ipython",
    "version": 3
   },
   "file_extension": ".py",
   "mimetype": "text/x-python",
   "name": "python",
   "nbconvert_exporter": "python",
   "pygments_lexer": "ipython3",
   "version": "3.7.3"
  },
  "varInspector": {
   "cols": {
    "lenName": 16,
    "lenType": 16,
    "lenVar": 40
   },
   "kernels_config": {
    "python": {
     "delete_cmd_postfix": "",
     "delete_cmd_prefix": "del ",
     "library": "var_list.py",
     "varRefreshCmd": "print(var_dic_list())"
    },
    "r": {
     "delete_cmd_postfix": ") ",
     "delete_cmd_prefix": "rm(",
     "library": "var_list.r",
     "varRefreshCmd": "cat(var_dic_list()) "
    }
   },
   "types_to_exclude": [
    "module",
    "function",
    "builtin_function_or_method",
    "instance",
    "_Feature"
   ],
   "window_display": false
  }
 },
 "nbformat": 4,
 "nbformat_minor": 2
}
