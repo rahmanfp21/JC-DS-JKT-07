{
 "cells": [
  {
   "cell_type": "markdown",
   "metadata": {},
   "source": [
    "## Ini Heading\n",
    "\n",
    "Ini untuk menjelaskan apa itu cell\n",
    "\n",
    "$Y_i = \\sum^{J}_{i =1}(c-1)^2$"
   ]
  },
  {
   "cell_type": "code",
   "execution_count": 55,
   "metadata": {
    "ExecuteTime": {
     "end_time": "2020-01-09T03:25:01.191717Z",
     "start_time": "2020-01-09T03:25:01.188753Z"
    }
   },
   "outputs": [],
   "source": [
    "# Belajar numpy \n",
    "import numpy as np\n",
    "from IPython.core.interactiveshell import InteractiveShell\n",
    "InteractiveShell.ast_node_interactivity = \"all\""
   ]
  },
  {
   "cell_type": "code",
   "execution_count": 2,
   "metadata": {
    "ExecuteTime": {
     "end_time": "2020-01-09T03:13:03.284592Z",
     "start_time": "2020-01-09T03:13:03.273623Z"
    }
   },
   "outputs": [
    {
     "data": {
      "text/plain": [
       "[1, 2, 3]"
      ]
     },
     "execution_count": 2,
     "metadata": {},
     "output_type": "execute_result"
    }
   ],
   "source": [
    "my_list = [1,2,3]\n",
    "my_list"
   ]
  },
  {
   "cell_type": "code",
   "execution_count": 3,
   "metadata": {
    "ExecuteTime": {
     "end_time": "2020-01-09T03:13:03.290576Z",
     "start_time": "2020-01-09T03:13:03.286587Z"
    }
   },
   "outputs": [
    {
     "data": {
      "text/plain": [
       "array([1, 2, 3])"
      ]
     },
     "execution_count": 3,
     "metadata": {},
     "output_type": "execute_result"
    }
   ],
   "source": [
    "np.array(my_list)"
   ]
  },
  {
   "cell_type": "code",
   "execution_count": 4,
   "metadata": {
    "ExecuteTime": {
     "end_time": "2020-01-09T03:13:03.298556Z",
     "start_time": "2020-01-09T03:13:03.293569Z"
    }
   },
   "outputs": [
    {
     "data": {
      "text/plain": [
       "[[1, 2, 3], [4, 5, 6], [7, 8, 9]]"
      ]
     },
     "execution_count": 4,
     "metadata": {},
     "output_type": "execute_result"
    }
   ],
   "source": [
    "my_matrix = [[1,2,3], [4,5,6], [7,8,9]]\n",
    "my_matrix"
   ]
  },
  {
   "cell_type": "code",
   "execution_count": 5,
   "metadata": {
    "ExecuteTime": {
     "end_time": "2020-01-09T03:13:03.304539Z",
     "start_time": "2020-01-09T03:13:03.299552Z"
    }
   },
   "outputs": [
    {
     "data": {
      "text/plain": [
       "array([0, 1, 2, 3, 4, 5, 6, 7, 8, 9])"
      ]
     },
     "execution_count": 5,
     "metadata": {},
     "output_type": "execute_result"
    }
   ],
   "source": [
    "# membuat array pakai arange\n",
    "\n",
    "np.arange(0,10)"
   ]
  },
  {
   "cell_type": "code",
   "execution_count": 6,
   "metadata": {
    "ExecuteTime": {
     "end_time": "2020-01-09T03:13:03.310529Z",
     "start_time": "2020-01-09T03:13:03.305536Z"
    }
   },
   "outputs": [
    {
     "data": {
      "text/plain": [
       "array([ 0,  2,  4,  6,  8, 10])"
      ]
     },
     "execution_count": 6,
     "metadata": {},
     "output_type": "execute_result"
    }
   ],
   "source": [
    "np.arange(0,11, 2)"
   ]
  },
  {
   "cell_type": "code",
   "execution_count": 7,
   "metadata": {
    "ExecuteTime": {
     "end_time": "2020-01-09T03:13:03.318502Z",
     "start_time": "2020-01-09T03:13:03.314513Z"
    }
   },
   "outputs": [],
   "source": [
    "arr = np.arange(1,11)"
   ]
  },
  {
   "cell_type": "code",
   "execution_count": 8,
   "metadata": {
    "ExecuteTime": {
     "end_time": "2020-01-09T03:13:03.325482Z",
     "start_time": "2020-01-09T03:13:03.321494Z"
    }
   },
   "outputs": [
    {
     "data": {
      "text/plain": [
       "array([ 1,  2,  3,  4,  5,  6,  7,  8,  9, 10])"
      ]
     },
     "execution_count": 8,
     "metadata": {},
     "output_type": "execute_result"
    }
   ],
   "source": [
    "arr"
   ]
  },
  {
   "cell_type": "code",
   "execution_count": 9,
   "metadata": {
    "ExecuteTime": {
     "end_time": "2020-01-09T03:13:03.333462Z",
     "start_time": "2020-01-09T03:13:03.327479Z"
    }
   },
   "outputs": [
    {
     "data": {
      "text/plain": [
       "8"
      ]
     },
     "execution_count": 9,
     "metadata": {},
     "output_type": "execute_result"
    }
   ],
   "source": [
    "arr[7]"
   ]
  },
  {
   "cell_type": "code",
   "execution_count": 10,
   "metadata": {
    "ExecuteTime": {
     "end_time": "2020-01-09T03:13:03.339446Z",
     "start_time": "2020-01-09T03:13:03.334459Z"
    }
   },
   "outputs": [
    {
     "data": {
      "text/plain": [
       "array([ 4,  5,  6,  7,  8,  9, 10])"
      ]
     },
     "execution_count": 10,
     "metadata": {},
     "output_type": "execute_result"
    }
   ],
   "source": [
    "arr[3:]"
   ]
  },
  {
   "cell_type": "code",
   "execution_count": 11,
   "metadata": {
    "ExecuteTime": {
     "end_time": "2020-01-09T03:13:03.344432Z",
     "start_time": "2020-01-09T03:13:03.340443Z"
    }
   },
   "outputs": [],
   "source": [
    "arr[[1,3,4,5, 7]] = 100"
   ]
  },
  {
   "cell_type": "code",
   "execution_count": 12,
   "metadata": {
    "ExecuteTime": {
     "end_time": "2020-01-09T03:13:03.350416Z",
     "start_time": "2020-01-09T03:13:03.345430Z"
    }
   },
   "outputs": [
    {
     "data": {
      "text/plain": [
       "array([100, 100, 100, 100])"
      ]
     },
     "execution_count": 12,
     "metadata": {},
     "output_type": "execute_result"
    }
   ],
   "source": [
    "arr[[1,3,4,5]]"
   ]
  },
  {
   "cell_type": "code",
   "execution_count": 13,
   "metadata": {
    "ExecuteTime": {
     "end_time": "2020-01-09T03:13:03.356400Z",
     "start_time": "2020-01-09T03:13:03.351414Z"
    }
   },
   "outputs": [
    {
     "data": {
      "text/plain": [
       "array([  1, 100,   3, 100, 100, 100,   7, 100,   9,  10])"
      ]
     },
     "execution_count": 13,
     "metadata": {},
     "output_type": "execute_result"
    }
   ],
   "source": [
    "arr"
   ]
  },
  {
   "cell_type": "code",
   "execution_count": 14,
   "metadata": {
    "ExecuteTime": {
     "end_time": "2020-01-09T03:13:03.361391Z",
     "start_time": "2020-01-09T03:13:03.358395Z"
    }
   },
   "outputs": [],
   "source": [
    "slice_of_arr = arr[1:5]"
   ]
  },
  {
   "cell_type": "code",
   "execution_count": 15,
   "metadata": {
    "ExecuteTime": {
     "end_time": "2020-01-09T03:13:03.365379Z",
     "start_time": "2020-01-09T03:13:03.362392Z"
    }
   },
   "outputs": [],
   "source": [
    "slice_of_arr[:] = 0"
   ]
  },
  {
   "cell_type": "code",
   "execution_count": 16,
   "metadata": {
    "ExecuteTime": {
     "end_time": "2020-01-09T03:13:03.372358Z",
     "start_time": "2020-01-09T03:13:03.367371Z"
    }
   },
   "outputs": [
    {
     "data": {
      "text/plain": [
       "array([0, 0, 0, 0])"
      ]
     },
     "execution_count": 16,
     "metadata": {},
     "output_type": "execute_result"
    }
   ],
   "source": [
    "slice_of_arr"
   ]
  },
  {
   "cell_type": "code",
   "execution_count": 17,
   "metadata": {
    "ExecuteTime": {
     "end_time": "2020-01-09T03:13:03.378347Z",
     "start_time": "2020-01-09T03:13:03.374353Z"
    }
   },
   "outputs": [
    {
     "data": {
      "text/plain": [
       "array([  1,   0,   0,   0,   0, 100,   7, 100,   9,  10])"
      ]
     },
     "execution_count": 17,
     "metadata": {},
     "output_type": "execute_result"
    }
   ],
   "source": [
    "arr"
   ]
  },
  {
   "cell_type": "code",
   "execution_count": 18,
   "metadata": {
    "ExecuteTime": {
     "end_time": "2020-01-09T03:13:03.386320Z",
     "start_time": "2020-01-09T03:13:03.381335Z"
    }
   },
   "outputs": [],
   "source": [
    "array_2d = np.array([[5,10,15], [20,25,30], [35,40,45]])\n"
   ]
  },
  {
   "cell_type": "code",
   "execution_count": 19,
   "metadata": {
    "ExecuteTime": {
     "end_time": "2020-01-09T03:13:03.392305Z",
     "start_time": "2020-01-09T03:13:03.387318Z"
    }
   },
   "outputs": [
    {
     "data": {
      "text/plain": [
       "array([[ 5, 10, 15],\n",
       "       [20, 25, 30],\n",
       "       [35, 40, 45]])"
      ]
     },
     "execution_count": 19,
     "metadata": {},
     "output_type": "execute_result"
    }
   ],
   "source": [
    "array_2d"
   ]
  },
  {
   "cell_type": "code",
   "execution_count": 20,
   "metadata": {
    "ExecuteTime": {
     "end_time": "2020-01-09T03:13:03.397296Z",
     "start_time": "2020-01-09T03:13:03.394299Z"
    }
   },
   "outputs": [
    {
     "data": {
      "text/plain": [
       "array([20, 25, 30])"
      ]
     },
     "execution_count": 20,
     "metadata": {},
     "output_type": "execute_result"
    }
   ],
   "source": [
    "array_2d[1]"
   ]
  },
  {
   "cell_type": "code",
   "execution_count": 21,
   "metadata": {
    "ExecuteTime": {
     "end_time": "2020-01-09T03:13:03.404272Z",
     "start_time": "2020-01-09T03:13:03.399290Z"
    }
   },
   "outputs": [
    {
     "data": {
      "text/plain": [
       "20"
      ]
     },
     "execution_count": 21,
     "metadata": {},
     "output_type": "execute_result"
    }
   ],
   "source": [
    "array_2d[1][0]"
   ]
  },
  {
   "cell_type": "code",
   "execution_count": 22,
   "metadata": {
    "ExecuteTime": {
     "end_time": "2020-01-09T03:13:03.412252Z",
     "start_time": "2020-01-09T03:13:03.408261Z"
    }
   },
   "outputs": [
    {
     "data": {
      "text/plain": [
       "20"
      ]
     },
     "execution_count": 22,
     "metadata": {},
     "output_type": "execute_result"
    }
   ],
   "source": [
    "array_2d[1,0]"
   ]
  },
  {
   "cell_type": "code",
   "execution_count": 23,
   "metadata": {
    "ExecuteTime": {
     "end_time": "2020-01-09T03:13:03.421227Z",
     "start_time": "2020-01-09T03:13:03.416241Z"
    }
   },
   "outputs": [
    {
     "data": {
      "text/plain": [
       "(3, 3)"
      ]
     },
     "execution_count": 23,
     "metadata": {},
     "output_type": "execute_result"
    }
   ],
   "source": [
    "array_2d.shape"
   ]
  },
  {
   "cell_type": "markdown",
   "metadata": {},
   "source": [
    "## Untuk Array 2D\n",
    "\n",
    "di posisi 0 adalah Row, dan posisi 1 adalah kolom"
   ]
  },
  {
   "cell_type": "code",
   "execution_count": 24,
   "metadata": {
    "ExecuteTime": {
     "end_time": "2020-01-09T03:13:03.427211Z",
     "start_time": "2020-01-09T03:13:03.422225Z"
    }
   },
   "outputs": [
    {
     "data": {
      "text/plain": [
       "array([[ 5, 10, 15],\n",
       "       [20, 25, 30],\n",
       "       [35, 40, 45]])"
      ]
     },
     "execution_count": 24,
     "metadata": {},
     "output_type": "execute_result"
    }
   ],
   "source": [
    "array_2d"
   ]
  },
  {
   "cell_type": "code",
   "execution_count": 25,
   "metadata": {
    "ExecuteTime": {
     "end_time": "2020-01-09T03:13:03.435190Z",
     "start_time": "2020-01-09T03:13:03.430205Z"
    }
   },
   "outputs": [
    {
     "data": {
      "text/plain": [
       "array([[10, 15],\n",
       "       [25, 30]])"
      ]
     },
     "execution_count": 25,
     "metadata": {},
     "output_type": "execute_result"
    }
   ],
   "source": [
    "array_2d[:2,1:]"
   ]
  },
  {
   "cell_type": "code",
   "execution_count": 26,
   "metadata": {
    "ExecuteTime": {
     "end_time": "2020-01-09T03:13:03.441174Z",
     "start_time": "2020-01-09T03:13:03.436187Z"
    },
    "scrolled": true
   },
   "outputs": [
    {
     "data": {
      "text/plain": [
       "array([0.        , 0.02040816, 0.04081633, 0.06122449, 0.08163265,\n",
       "       0.10204082, 0.12244898, 0.14285714, 0.16326531, 0.18367347,\n",
       "       0.20408163, 0.2244898 , 0.24489796, 0.26530612, 0.28571429,\n",
       "       0.30612245, 0.32653061, 0.34693878, 0.36734694, 0.3877551 ,\n",
       "       0.40816327, 0.42857143, 0.44897959, 0.46938776, 0.48979592,\n",
       "       0.51020408, 0.53061224, 0.55102041, 0.57142857, 0.59183673,\n",
       "       0.6122449 , 0.63265306, 0.65306122, 0.67346939, 0.69387755,\n",
       "       0.71428571, 0.73469388, 0.75510204, 0.7755102 , 0.79591837,\n",
       "       0.81632653, 0.83673469, 0.85714286, 0.87755102, 0.89795918,\n",
       "       0.91836735, 0.93877551, 0.95918367, 0.97959184, 1.        ])"
      ]
     },
     "execution_count": 26,
     "metadata": {},
     "output_type": "execute_result"
    }
   ],
   "source": [
    "np.linspace(0,1)"
   ]
  },
  {
   "cell_type": "code",
   "execution_count": 27,
   "metadata": {
    "ExecuteTime": {
     "end_time": "2020-01-09T03:13:03.446161Z",
     "start_time": "2020-01-09T03:13:03.442171Z"
    }
   },
   "outputs": [],
   "source": [
    "np.random.seed(101)"
   ]
  },
  {
   "cell_type": "code",
   "execution_count": 32,
   "metadata": {
    "ExecuteTime": {
     "end_time": "2020-01-09T03:14:45.043617Z",
     "start_time": "2020-01-09T03:14:45.038631Z"
    }
   },
   "outputs": [
    {
     "data": {
      "text/plain": [
       "array([0.87758732, 0.94926413])"
      ]
     },
     "execution_count": 32,
     "metadata": {},
     "output_type": "execute_result"
    }
   ],
   "source": [
    "np.random.rand(2)"
   ]
  },
  {
   "cell_type": "code",
   "execution_count": 29,
   "metadata": {
    "ExecuteTime": {
     "end_time": "2020-01-09T03:13:03.460126Z",
     "start_time": "2020-01-09T03:13:03.455137Z"
    }
   },
   "outputs": [
    {
     "data": {
      "text/plain": [
       "array([[0.02847423, 0.17152166, 0.68527698, 0.83389686, 0.30696622],\n",
       "       [0.89361308, 0.72154386, 0.18993895, 0.55422759, 0.35213195],\n",
       "       [0.1818924 , 0.78560176, 0.96548322, 0.23235366, 0.08356143],\n",
       "       [0.60354842, 0.72899276, 0.27623883, 0.68530633, 0.51786747],\n",
       "       [0.04848454, 0.13786924, 0.18696743, 0.9943179 , 0.5206654 ]])"
      ]
     },
     "execution_count": 29,
     "metadata": {},
     "output_type": "execute_result"
    }
   ],
   "source": [
    "np.random.rand(5,5)"
   ]
  },
  {
   "cell_type": "code",
   "execution_count": 30,
   "metadata": {
    "ExecuteTime": {
     "end_time": "2020-01-09T03:13:03.467104Z",
     "start_time": "2020-01-09T03:13:03.462118Z"
    }
   },
   "outputs": [
    {
     "data": {
      "text/plain": [
       "array([1.58917569, 0.53322084])"
      ]
     },
     "execution_count": 30,
     "metadata": {},
     "output_type": "execute_result"
    }
   ],
   "source": [
    "np.random.randn(2)"
   ]
  },
  {
   "cell_type": "code",
   "execution_count": 31,
   "metadata": {
    "ExecuteTime": {
     "end_time": "2020-01-09T03:13:03.474087Z",
     "start_time": "2020-01-09T03:13:03.468102Z"
    }
   },
   "outputs": [
    {
     "data": {
      "text/plain": [
       "array([[ 8.57349240e-01,  8.70763251e-02, -3.97461714e-01,\n",
       "         1.26168798e+00,  4.33331317e-01],\n",
       "       [-1.36613700e-01,  8.82139838e-01, -3.77811241e-01,\n",
       "         1.46638797e-01,  1.26912178e+00],\n",
       "       [ 3.07881084e-01, -6.06805545e-01,  9.19318419e-01,\n",
       "        -1.19611840e+00,  5.08945217e-01],\n",
       "       [-8.48439962e-01,  2.01079346e+00, -1.37609705e-01,\n",
       "        -5.98269227e-01,  2.82337430e-02],\n",
       "       [ 3.92746078e-01, -1.44169525e+00,  3.22839962e-04,\n",
       "        -1.04991168e+00, -2.29937498e-01]])"
      ]
     },
     "execution_count": 31,
     "metadata": {},
     "output_type": "execute_result"
    }
   ],
   "source": [
    "#mean = 0, std = 1. Sampel disini adalah Z-score\n",
    "np.random.randn(5,5)"
   ]
  },
  {
   "cell_type": "code",
   "execution_count": 42,
   "metadata": {
    "ExecuteTime": {
     "end_time": "2020-01-09T03:17:58.885663Z",
     "start_time": "2020-01-09T03:17:58.880707Z"
    }
   },
   "outputs": [
    {
     "data": {
      "text/plain": [
       "2"
      ]
     },
     "execution_count": 42,
     "metadata": {},
     "output_type": "execute_result"
    }
   ],
   "source": [
    "np.random.randint(1,4)"
   ]
  },
  {
   "cell_type": "code",
   "execution_count": 47,
   "metadata": {
    "ExecuteTime": {
     "end_time": "2020-01-09T03:19:25.610012Z",
     "start_time": "2020-01-09T03:19:25.605059Z"
    }
   },
   "outputs": [
    {
     "data": {
      "text/plain": [
       "array([1, 3, 1, 3, 2, 3, 3, 1, 1, 2, 3, 2, 2, 1, 1, 3, 2, 3, 3, 3, 3, 3,\n",
       "       1, 2, 1, 1, 3, 1, 1, 3, 2, 3, 2, 1, 3, 1, 1, 2, 1, 2, 2, 1, 1, 3,\n",
       "       2, 2, 3, 3, 2, 2, 3, 2, 2, 1, 2, 1, 1, 3, 2, 3, 1, 2, 3, 1, 3, 3,\n",
       "       1, 2, 1, 1, 3, 3, 1, 2, 3, 3, 1, 1, 2, 1, 1, 2, 1, 1, 2, 3, 3, 2,\n",
       "       1, 2, 2, 2, 2, 2, 1, 1, 3, 2, 3, 2])"
      ]
     },
     "execution_count": 47,
     "metadata": {},
     "output_type": "execute_result"
    }
   ],
   "source": [
    "np.random.randint(1,4,100)"
   ]
  },
  {
   "cell_type": "code",
   "execution_count": 48,
   "metadata": {
    "ExecuteTime": {
     "end_time": "2020-01-09T03:23:26.131282Z",
     "start_time": "2020-01-09T03:23:26.127325Z"
    }
   },
   "outputs": [],
   "source": [
    "arr =np.arange(25)\n",
    "ranarr = np.random.randint(0,50,10)"
   ]
  },
  {
   "cell_type": "code",
   "execution_count": 49,
   "metadata": {
    "ExecuteTime": {
     "end_time": "2020-01-09T03:23:28.482449Z",
     "start_time": "2020-01-09T03:23:28.478461Z"
    }
   },
   "outputs": [
    {
     "data": {
      "text/plain": [
       "array([ 0,  1,  2,  3,  4,  5,  6,  7,  8,  9, 10, 11, 12, 13, 14, 15, 16,\n",
       "       17, 18, 19, 20, 21, 22, 23, 24])"
      ]
     },
     "execution_count": 49,
     "metadata": {},
     "output_type": "execute_result"
    }
   ],
   "source": [
    "arr"
   ]
  },
  {
   "cell_type": "code",
   "execution_count": 50,
   "metadata": {
    "ExecuteTime": {
     "end_time": "2020-01-09T03:23:30.644911Z",
     "start_time": "2020-01-09T03:23:30.639925Z"
    }
   },
   "outputs": [
    {
     "data": {
      "text/plain": [
       "array([36, 43, 27,  2,  3,  6, 41,  3,  8, 24])"
      ]
     },
     "execution_count": 50,
     "metadata": {},
     "output_type": "execute_result"
    }
   ],
   "source": [
    "ranarr"
   ]
  },
  {
   "cell_type": "code",
   "execution_count": 51,
   "metadata": {
    "ExecuteTime": {
     "end_time": "2020-01-09T03:23:43.725411Z",
     "start_time": "2020-01-09T03:23:43.720461Z"
    }
   },
   "outputs": [
    {
     "data": {
      "text/plain": [
       "2"
      ]
     },
     "execution_count": 51,
     "metadata": {},
     "output_type": "execute_result"
    }
   ],
   "source": [
    "ranarr.min()"
   ]
  },
  {
   "cell_type": "code",
   "execution_count": 52,
   "metadata": {
    "ExecuteTime": {
     "end_time": "2020-01-09T03:23:46.940585Z",
     "start_time": "2020-01-09T03:23:46.935563Z"
    }
   },
   "outputs": [
    {
     "data": {
      "text/plain": [
       "43"
      ]
     },
     "execution_count": 52,
     "metadata": {},
     "output_type": "execute_result"
    }
   ],
   "source": [
    "ranarr.max()"
   ]
  },
  {
   "cell_type": "code",
   "execution_count": 53,
   "metadata": {
    "ExecuteTime": {
     "end_time": "2020-01-09T03:23:53.025435Z",
     "start_time": "2020-01-09T03:23:53.020451Z"
    }
   },
   "outputs": [
    {
     "data": {
      "text/plain": [
       "3"
      ]
     },
     "execution_count": 53,
     "metadata": {},
     "output_type": "execute_result"
    }
   ],
   "source": [
    "ranarr.argmin()"
   ]
  },
  {
   "cell_type": "code",
   "execution_count": 54,
   "metadata": {
    "ExecuteTime": {
     "end_time": "2020-01-09T03:23:56.953658Z",
     "start_time": "2020-01-09T03:23:56.949701Z"
    }
   },
   "outputs": [
    {
     "data": {
      "text/plain": [
       "1"
      ]
     },
     "execution_count": 54,
     "metadata": {},
     "output_type": "execute_result"
    }
   ],
   "source": [
    "ranarr.argmax()"
   ]
  },
  {
   "cell_type": "code",
   "execution_count": 62,
   "metadata": {
    "ExecuteTime": {
     "end_time": "2020-01-09T03:27:50.149878Z",
     "start_time": "2020-01-09T03:27:50.145886Z"
    }
   },
   "outputs": [
    {
     "data": {
      "text/plain": [
       "16.0"
      ]
     },
     "execution_count": 62,
     "metadata": {},
     "output_type": "execute_result"
    }
   ],
   "source": [
    "np.median(ranarr)"
   ]
  },
  {
   "cell_type": "code",
   "execution_count": 56,
   "metadata": {
    "ExecuteTime": {
     "end_time": "2020-01-09T03:26:19.435486Z",
     "start_time": "2020-01-09T03:26:19.431463Z"
    }
   },
   "outputs": [
    {
     "data": {
      "text/plain": [
       "19.3"
      ]
     },
     "execution_count": 56,
     "metadata": {},
     "output_type": "execute_result"
    }
   ],
   "source": [
    "ranarr.mean()"
   ]
  },
  {
   "cell_type": "code",
   "execution_count": 59,
   "metadata": {
    "ExecuteTime": {
     "end_time": "2020-01-09T03:26:56.007983Z",
     "start_time": "2020-01-09T03:26:56.003037Z"
    }
   },
   "outputs": [
    {
     "data": {
      "text/plain": [
       "15.9"
      ]
     },
     "execution_count": 59,
     "metadata": {},
     "output_type": "execute_result"
    }
   ],
   "source": [
    "ranarr.std()"
   ]
  },
  {
   "cell_type": "code",
   "execution_count": 64,
   "metadata": {
    "ExecuteTime": {
     "end_time": "2020-01-09T03:30:58.909994Z",
     "start_time": "2020-01-09T03:30:58.906054Z"
    }
   },
   "outputs": [
    {
     "data": {
      "text/plain": [
       "array(['1', '2', 'test', 'True'], dtype='<U11')"
      ]
     },
     "execution_count": 64,
     "metadata": {},
     "output_type": "execute_result"
    }
   ],
   "source": [
    "np.array([1,2, 'test', True])"
   ]
  },
  {
   "cell_type": "code",
   "execution_count": 66,
   "metadata": {
    "ExecuteTime": {
     "end_time": "2020-01-09T03:33:29.631250Z",
     "start_time": "2020-01-09T03:33:29.626265Z"
    }
   },
   "outputs": [
    {
     "data": {
      "text/plain": [
       "array([[0., 0., 0., 0., 0., 0., 0., 0., 0., 0.],\n",
       "       [0., 0., 0., 0., 0., 0., 0., 0., 0., 0.],\n",
       "       [0., 0., 0., 0., 0., 0., 0., 0., 0., 0.],\n",
       "       [0., 0., 0., 0., 0., 0., 0., 0., 0., 0.],\n",
       "       [0., 0., 0., 0., 0., 0., 0., 0., 0., 0.],\n",
       "       [0., 0., 0., 0., 0., 0., 0., 0., 0., 0.],\n",
       "       [0., 0., 0., 0., 0., 0., 0., 0., 0., 0.],\n",
       "       [0., 0., 0., 0., 0., 0., 0., 0., 0., 0.],\n",
       "       [0., 0., 0., 0., 0., 0., 0., 0., 0., 0.],\n",
       "       [0., 0., 0., 0., 0., 0., 0., 0., 0., 0.]])"
      ]
     },
     "execution_count": 66,
     "metadata": {},
     "output_type": "execute_result"
    }
   ],
   "source": [
    "arr2d = np.zeros((10,10))\n",
    "arr2d"
   ]
  },
  {
   "cell_type": "code",
   "execution_count": 68,
   "metadata": {
    "ExecuteTime": {
     "end_time": "2020-01-09T03:34:33.199766Z",
     "start_time": "2020-01-09T03:34:33.194778Z"
    }
   },
   "outputs": [
    {
     "data": {
      "text/plain": [
       "array([[0., 0., 0., 0., 0., 0., 0., 0., 0., 0.],\n",
       "       [1., 1., 1., 1., 1., 1., 1., 1., 1., 1.],\n",
       "       [2., 2., 2., 2., 2., 2., 2., 2., 2., 2.],\n",
       "       [3., 3., 3., 3., 3., 3., 3., 3., 3., 3.],\n",
       "       [4., 4., 4., 4., 4., 4., 4., 4., 4., 4.],\n",
       "       [5., 5., 5., 5., 5., 5., 5., 5., 5., 5.],\n",
       "       [6., 6., 6., 6., 6., 6., 6., 6., 6., 6.],\n",
       "       [7., 7., 7., 7., 7., 7., 7., 7., 7., 7.],\n",
       "       [8., 8., 8., 8., 8., 8., 8., 8., 8., 8.],\n",
       "       [9., 9., 9., 9., 9., 9., 9., 9., 9., 9.]])"
      ]
     },
     "execution_count": 68,
     "metadata": {},
     "output_type": "execute_result"
    }
   ],
   "source": [
    "for i in range(10):\n",
    "    arr2d[i] = i\n",
    "arr2d    "
   ]
  },
  {
   "cell_type": "code",
   "execution_count": 72,
   "metadata": {
    "ExecuteTime": {
     "end_time": "2020-01-09T03:36:41.768502Z",
     "start_time": "2020-01-09T03:36:41.764498Z"
    }
   },
   "outputs": [
    {
     "data": {
      "text/plain": [
       "array([[1., 1., 1., 1., 1., 1., 1., 1., 1., 1.],\n",
       "       [3., 3., 3., 3., 3., 3., 3., 3., 3., 3.],\n",
       "       [4., 4., 4., 4., 4., 4., 4., 4., 4., 4.],\n",
       "       [6., 6., 6., 6., 6., 6., 6., 6., 6., 6.],\n",
       "       [6., 6., 6., 6., 6., 6., 6., 6., 6., 6.]])"
      ]
     },
     "execution_count": 72,
     "metadata": {},
     "output_type": "execute_result"
    }
   ],
   "source": [
    "arr2d[[1,3,4,6,6]]"
   ]
  },
  {
   "cell_type": "code",
   "execution_count": 80,
   "metadata": {
    "ExecuteTime": {
     "end_time": "2020-01-09T03:40:00.039619Z",
     "start_time": "2020-01-09T03:40:00.034661Z"
    }
   },
   "outputs": [
    {
     "data": {
      "text/plain": [
       "array([ 1,  2,  3,  4,  5,  6,  7,  8,  9, 10])"
      ]
     },
     "execution_count": 80,
     "metadata": {},
     "output_type": "execute_result"
    }
   ],
   "source": [
    "arr = np.arange(1,11)\n",
    "arr"
   ]
  },
  {
   "cell_type": "code",
   "execution_count": 74,
   "metadata": {
    "ExecuteTime": {
     "end_time": "2020-01-09T03:38:55.636624Z",
     "start_time": "2020-01-09T03:38:55.632640Z"
    }
   },
   "outputs": [
    {
     "data": {
      "text/plain": [
       "array([False, False, False, False,  True,  True,  True,  True,  True,\n",
       "        True])"
      ]
     },
     "execution_count": 74,
     "metadata": {},
     "output_type": "execute_result"
    }
   ],
   "source": [
    "arr > 4"
   ]
  },
  {
   "cell_type": "code",
   "execution_count": 75,
   "metadata": {
    "ExecuteTime": {
     "end_time": "2020-01-09T03:39:06.924772Z",
     "start_time": "2020-01-09T03:39:06.921779Z"
    }
   },
   "outputs": [],
   "source": [
    "bool_arr = arr>4"
   ]
  },
  {
   "cell_type": "code",
   "execution_count": 77,
   "metadata": {
    "ExecuteTime": {
     "end_time": "2020-01-09T03:39:16.381910Z",
     "start_time": "2020-01-09T03:39:16.377921Z"
    }
   },
   "outputs": [
    {
     "data": {
      "text/plain": [
       "array([False, False, False, False,  True,  True,  True,  True,  True,\n",
       "        True])"
      ]
     },
     "execution_count": 77,
     "metadata": {},
     "output_type": "execute_result"
    }
   ],
   "source": [
    "bool_arr"
   ]
  },
  {
   "cell_type": "code",
   "execution_count": 78,
   "metadata": {
    "ExecuteTime": {
     "end_time": "2020-01-09T03:39:39.200859Z",
     "start_time": "2020-01-09T03:39:39.197864Z"
    }
   },
   "outputs": [
    {
     "data": {
      "text/plain": [
       "array([ 5,  6,  7,  8,  9, 10])"
      ]
     },
     "execution_count": 78,
     "metadata": {},
     "output_type": "execute_result"
    }
   ],
   "source": [
    "#Selection of array\n",
    "arr[bool_arr]"
   ]
  },
  {
   "cell_type": "code",
   "execution_count": 87,
   "metadata": {
    "ExecuteTime": {
     "end_time": "2020-01-09T03:45:09.188814Z",
     "start_time": "2020-01-09T03:45:09.183828Z"
    }
   },
   "outputs": [
    {
     "data": {
      "text/plain": [
       "array([1, 3, 4, 5, 6])"
      ]
     },
     "execution_count": 87,
     "metadata": {},
     "output_type": "execute_result"
    }
   ],
   "source": [
    "arr[(arr > 2) & (arr < 7) | (arr == 1)]"
   ]
  },
  {
   "cell_type": "code",
   "execution_count": 93,
   "metadata": {
    "ExecuteTime": {
     "end_time": "2020-01-09T03:48:27.203511Z",
     "start_time": "2020-01-09T03:48:27.199521Z"
    }
   },
   "outputs": [],
   "source": [
    "arr = np.arange(10)\n",
    "arr1 = np.arange(5)"
   ]
  },
  {
   "cell_type": "code",
   "execution_count": 95,
   "metadata": {
    "ExecuteTime": {
     "end_time": "2020-01-09T03:48:53.223937Z",
     "start_time": "2020-01-09T03:48:53.218989Z"
    }
   },
   "outputs": [
    {
     "data": {
      "text/plain": [
       "array([0, 1, 2, 3, 4, 5, 6, 7, 8, 9])"
      ]
     },
     "execution_count": 95,
     "metadata": {},
     "output_type": "execute_result"
    }
   ],
   "source": [
    "arr"
   ]
  },
  {
   "cell_type": "code",
   "execution_count": 92,
   "metadata": {
    "ExecuteTime": {
     "end_time": "2020-01-09T03:48:14.319027Z",
     "start_time": "2020-01-09T03:48:14.314041Z"
    }
   },
   "outputs": [
    {
     "data": {
      "text/plain": [
       "array([0, 0, 0, 0, 0, 0, 0, 0, 0, 0])"
      ]
     },
     "execution_count": 92,
     "metadata": {},
     "output_type": "execute_result"
    }
   ],
   "source": [
    "arr - arr"
   ]
  },
  {
   "cell_type": "code",
   "execution_count": 96,
   "metadata": {
    "ExecuteTime": {
     "end_time": "2020-01-09T03:49:15.565017Z",
     "start_time": "2020-01-09T03:49:15.560065Z"
    }
   },
   "outputs": [
    {
     "name": "stderr",
     "output_type": "stream",
     "text": [
      "C:\\Users\\MSI\\Anaconda3\\lib\\site-packages\\ipykernel_launcher.py:1: RuntimeWarning: divide by zero encountered in true_divide\n",
      "  \"\"\"Entry point for launching an IPython kernel.\n"
     ]
    },
    {
     "data": {
      "text/plain": [
       "array([       inf, 1.        , 0.5       , 0.33333333, 0.25      ,\n",
       "       0.2       , 0.16666667, 0.14285714, 0.125     , 0.11111111])"
      ]
     },
     "execution_count": 96,
     "metadata": {},
     "output_type": "execute_result"
    }
   ],
   "source": [
    "1/arr"
   ]
  },
  {
   "cell_type": "code",
   "execution_count": 97,
   "metadata": {
    "ExecuteTime": {
     "end_time": "2020-01-09T03:49:21.671798Z",
     "start_time": "2020-01-09T03:49:21.667841Z"
    }
   },
   "outputs": [
    {
     "data": {
      "text/plain": [
       "array([  0,   1,   8,  27,  64, 125, 216, 343, 512, 729], dtype=int32)"
      ]
     },
     "execution_count": 97,
     "metadata": {},
     "output_type": "execute_result"
    }
   ],
   "source": [
    "arr**3"
   ]
  },
  {
   "cell_type": "code",
   "execution_count": 100,
   "metadata": {
    "ExecuteTime": {
     "end_time": "2020-01-09T03:50:52.221930Z",
     "start_time": "2020-01-09T03:50:52.217911Z"
    }
   },
   "outputs": [
    {
     "data": {
      "text/plain": [
       "6.643856189774724"
      ]
     },
     "execution_count": 100,
     "metadata": {},
     "output_type": "execute_result"
    }
   ],
   "source": [
    "np.log2(100)"
   ]
  },
  {
   "cell_type": "code",
   "execution_count": null,
   "metadata": {},
   "outputs": [],
   "source": []
  }
 ],
 "metadata": {
  "hide_input": false,
  "kernelspec": {
   "display_name": "Python 3",
   "language": "python",
   "name": "python3"
  },
  "language_info": {
   "codemirror_mode": {
    "name": "ipython",
    "version": 3
   },
   "file_extension": ".py",
   "mimetype": "text/x-python",
   "name": "python",
   "nbconvert_exporter": "python",
   "pygments_lexer": "ipython3",
   "version": "3.7.3"
  },
  "varInspector": {
   "cols": {
    "lenName": 16,
    "lenType": 16,
    "lenVar": 40
   },
   "kernels_config": {
    "python": {
     "delete_cmd_postfix": "",
     "delete_cmd_prefix": "del ",
     "library": "var_list.py",
     "varRefreshCmd": "print(var_dic_list())"
    },
    "r": {
     "delete_cmd_postfix": ") ",
     "delete_cmd_prefix": "rm(",
     "library": "var_list.r",
     "varRefreshCmd": "cat(var_dic_list()) "
    }
   },
   "types_to_exclude": [
    "module",
    "function",
    "builtin_function_or_method",
    "instance",
    "_Feature"
   ],
   "window_display": false
  }
 },
 "nbformat": 4,
 "nbformat_minor": 2
}
